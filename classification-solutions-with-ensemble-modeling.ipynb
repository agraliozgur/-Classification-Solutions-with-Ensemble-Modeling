{
 "cells": [
  {
   "cell_type": "markdown",
   "metadata": {},
   "source": [
    "# Introduction\n",
    "The sinking of Titanic is one of the most notorious shipwrecks in the history. In 1912, during her voyage, the Titanic sank after colliding with an iceberg, killing 1502 out of 2224 passengers and crew.\n",
    "\n",
    "<font color = 'blue'>\n",
    "Content: \n",
    "\n",
    "1. [Load and Check Data](#1)\n",
    "1. [Variable Description](#2)\n",
    "1. [Basic Data Analysis with \"pandas_profiling\"](#3)    \n",
    "1. [Outlier Detection](#4)\n",
    "1. [Missing Value](#5)\n",
    "1. [Feature Engineering](#6)\n",
    "1. [Modeling](#7)\n",
    "    * [Train - Test Split](#8)\n",
    "    * [Hyperparameter Tuning -- Grid Search -- Cross Validation](#9) \n",
    "    * [Ensemble Modeling](#10)\n",
    "    * [Prediction and Submission](#11)"
   ]
  },
  {
   "cell_type": "markdown",
   "metadata": {},
   "source": [
    "<a id = \"1\"></a><br>\n",
    "# Load and Check Data"
   ]
  },
  {
   "cell_type": "code",
   "execution_count": 18,
   "metadata": {},
   "outputs": [
    {
     "name": "stdout",
     "output_type": "stream",
     "text": [
      "(891, 12) (418, 11) (418,) (1309, 12)\n"
     ]
    }
   ],
   "source": [
    "train_df = pd.read_csv(\"dataset/train.csv\")\n",
    "test_df = pd.read_csv(\"dataset/test.csv\")\n",
    "test_PassengerId = test_df[\"PassengerId\"]\n",
    "\n",
    "#used for split the data\n",
    "train_df_len = len(train_df) \n",
    "#merge train and test data\n",
    "df = pd.concat([train_df,test_df],axis = 0).reset_index(drop = True)\n",
    "\n",
    "print(train_df.shape,test_df.shape,test_PassengerId.shape, df.shape)"
   ]
  },
  {
   "cell_type": "code",
   "execution_count": 19,
   "metadata": {},
   "outputs": [
    {
     "data": {
      "text/html": [
       "<div>\n",
       "<style scoped>\n",
       "    .dataframe tbody tr th:only-of-type {\n",
       "        vertical-align: middle;\n",
       "    }\n",
       "\n",
       "    .dataframe tbody tr th {\n",
       "        vertical-align: top;\n",
       "    }\n",
       "\n",
       "    .dataframe thead th {\n",
       "        text-align: right;\n",
       "    }\n",
       "</style>\n",
       "<table border=\"1\" class=\"dataframe\">\n",
       "  <thead>\n",
       "    <tr style=\"text-align: right;\">\n",
       "      <th></th>\n",
       "      <th>PassengerId</th>\n",
       "      <th>Survived</th>\n",
       "      <th>Pclass</th>\n",
       "      <th>Name</th>\n",
       "      <th>Sex</th>\n",
       "      <th>Age</th>\n",
       "      <th>SibSp</th>\n",
       "      <th>Parch</th>\n",
       "      <th>Ticket</th>\n",
       "      <th>Fare</th>\n",
       "      <th>Cabin</th>\n",
       "      <th>Embarked</th>\n",
       "    </tr>\n",
       "  </thead>\n",
       "  <tbody>\n",
       "    <tr>\n",
       "      <th>0</th>\n",
       "      <td>1</td>\n",
       "      <td>0.0</td>\n",
       "      <td>3</td>\n",
       "      <td>Braund, Mr. Owen Harris</td>\n",
       "      <td>male</td>\n",
       "      <td>22.0</td>\n",
       "      <td>1</td>\n",
       "      <td>0</td>\n",
       "      <td>A/5 21171</td>\n",
       "      <td>7.2500</td>\n",
       "      <td>NaN</td>\n",
       "      <td>S</td>\n",
       "    </tr>\n",
       "    <tr>\n",
       "      <th>1</th>\n",
       "      <td>2</td>\n",
       "      <td>1.0</td>\n",
       "      <td>1</td>\n",
       "      <td>Cumings, Mrs. John Bradley (Florence Briggs Th...</td>\n",
       "      <td>female</td>\n",
       "      <td>38.0</td>\n",
       "      <td>1</td>\n",
       "      <td>0</td>\n",
       "      <td>PC 17599</td>\n",
       "      <td>71.2833</td>\n",
       "      <td>C85</td>\n",
       "      <td>C</td>\n",
       "    </tr>\n",
       "    <tr>\n",
       "      <th>2</th>\n",
       "      <td>3</td>\n",
       "      <td>1.0</td>\n",
       "      <td>3</td>\n",
       "      <td>Heikkinen, Miss. Laina</td>\n",
       "      <td>female</td>\n",
       "      <td>26.0</td>\n",
       "      <td>0</td>\n",
       "      <td>0</td>\n",
       "      <td>STON/O2. 3101282</td>\n",
       "      <td>7.9250</td>\n",
       "      <td>NaN</td>\n",
       "      <td>S</td>\n",
       "    </tr>\n",
       "    <tr>\n",
       "      <th>3</th>\n",
       "      <td>4</td>\n",
       "      <td>1.0</td>\n",
       "      <td>1</td>\n",
       "      <td>Futrelle, Mrs. Jacques Heath (Lily May Peel)</td>\n",
       "      <td>female</td>\n",
       "      <td>35.0</td>\n",
       "      <td>1</td>\n",
       "      <td>0</td>\n",
       "      <td>113803</td>\n",
       "      <td>53.1000</td>\n",
       "      <td>C123</td>\n",
       "      <td>S</td>\n",
       "    </tr>\n",
       "    <tr>\n",
       "      <th>4</th>\n",
       "      <td>5</td>\n",
       "      <td>0.0</td>\n",
       "      <td>3</td>\n",
       "      <td>Allen, Mr. William Henry</td>\n",
       "      <td>male</td>\n",
       "      <td>35.0</td>\n",
       "      <td>0</td>\n",
       "      <td>0</td>\n",
       "      <td>373450</td>\n",
       "      <td>8.0500</td>\n",
       "      <td>NaN</td>\n",
       "      <td>S</td>\n",
       "    </tr>\n",
       "  </tbody>\n",
       "</table>\n",
       "</div>"
      ],
      "text/plain": [
       "   PassengerId  Survived  Pclass  \\\n",
       "0            1       0.0       3   \n",
       "1            2       1.0       1   \n",
       "2            3       1.0       3   \n",
       "3            4       1.0       1   \n",
       "4            5       0.0       3   \n",
       "\n",
       "                                                Name     Sex   Age  SibSp  \\\n",
       "0                            Braund, Mr. Owen Harris    male  22.0      1   \n",
       "1  Cumings, Mrs. John Bradley (Florence Briggs Th...  female  38.0      1   \n",
       "2                             Heikkinen, Miss. Laina  female  26.0      0   \n",
       "3       Futrelle, Mrs. Jacques Heath (Lily May Peel)  female  35.0      1   \n",
       "4                           Allen, Mr. William Henry    male  35.0      0   \n",
       "\n",
       "   Parch            Ticket     Fare Cabin Embarked  \n",
       "0      0         A/5 21171   7.2500   NaN        S  \n",
       "1      0          PC 17599  71.2833   C85        C  \n",
       "2      0  STON/O2. 3101282   7.9250   NaN        S  \n",
       "3      0            113803  53.1000  C123        S  \n",
       "4      0            373450   8.0500   NaN        S  "
      ]
     },
     "execution_count": 19,
     "metadata": {},
     "output_type": "execute_result"
    }
   ],
   "source": [
    "df.head()"
   ]
  },
  {
   "cell_type": "markdown",
   "metadata": {},
   "source": [
    "<a id = \"2\"></a><br>\n",
    "# Variable Description\n",
    "1. PassengerId: unique id number to each passenger\n",
    "1. Survived: passenger survive(1) or died(0)\n",
    "1. Pclass: passenger class\n",
    "1. Name: name\n",
    "1. Sex: gender of passenger \n",
    "1. Age: age of passenger \n",
    "1. SibSp: number of siblings/spouses\n",
    "1. Parch: number of parents/children \n",
    "1. Ticket: ticket number \n",
    "1. Fare: amount of money spent on ticket\n",
    "1. Cabin: cabin category\n",
    "1. Embarked: port where passenger embarked (C = Cherbourg, Q = Queenstown, S = Southampton)\n"
   ]
  },
  {
   "cell_type": "code",
   "execution_count": 4,
   "metadata": {},
   "outputs": [
    {
     "name": "stdout",
     "output_type": "stream",
     "text": [
      "<class 'pandas.core.frame.DataFrame'>\n",
      "RangeIndex: 1309 entries, 0 to 1308\n",
      "Data columns (total 12 columns):\n",
      " #   Column       Non-Null Count  Dtype  \n",
      "---  ------       --------------  -----  \n",
      " 0   PassengerId  1309 non-null   int64  \n",
      " 1   Survived     891 non-null    float64\n",
      " 2   Pclass       1309 non-null   int64  \n",
      " 3   Name         1309 non-null   object \n",
      " 4   Sex          1309 non-null   object \n",
      " 5   Age          1046 non-null   float64\n",
      " 6   SibSp        1309 non-null   int64  \n",
      " 7   Parch        1309 non-null   int64  \n",
      " 8   Ticket       1309 non-null   object \n",
      " 9   Fare         1308 non-null   float64\n",
      " 10  Cabin        295 non-null    object \n",
      " 11  Embarked     1307 non-null   object \n",
      "dtypes: float64(3), int64(4), object(5)\n",
      "memory usage: 122.8+ KB\n"
     ]
    }
   ],
   "source": [
    "df.info()"
   ]
  },
  {
   "cell_type": "markdown",
   "metadata": {},
   "source": [
    "<a id = \"3\"></a><br>\n",
    "# Basic Data Analysis with \"pandas_profiling\""
   ]
  },
  {
   "cell_type": "code",
   "execution_count": 21,
   "metadata": {},
   "outputs": [
    {
     "data": {
      "application/vnd.jupyter.widget-view+json": {
       "model_id": "c0321a0ce91849fca3ca53baf53e1463",
       "version_major": 2,
       "version_minor": 0
      },
      "text/plain": [
       "HBox(children=(HTML(value='Summarize dataset'), FloatProgress(value=0.0, max=25.0), HTML(value='')))"
      ]
     },
     "metadata": {},
     "output_type": "display_data"
    },
    {
     "name": "stdout",
     "output_type": "stream",
     "text": [
      "\n"
     ]
    },
    {
     "data": {
      "application/vnd.jupyter.widget-view+json": {
       "model_id": "c4cd7b600ea3494c9bfa562e5af622bf",
       "version_major": 2,
       "version_minor": 0
      },
      "text/plain": [
       "HBox(children=(HTML(value='Generate report structure'), FloatProgress(value=0.0, max=1.0), HTML(value='')))"
      ]
     },
     "metadata": {},
     "output_type": "display_data"
    },
    {
     "name": "stdout",
     "output_type": "stream",
     "text": [
      "\n"
     ]
    },
    {
     "data": {
      "application/vnd.jupyter.widget-view+json": {
       "model_id": "",
       "version_major": 2,
       "version_minor": 0
      },
      "text/plain": [
       "HBox(children=(HTML(value='Render widgets'), FloatProgress(value=0.0, max=1.0), HTML(value='')))"
      ]
     },
     "metadata": {},
     "output_type": "display_data"
    },
    {
     "data": {
      "application/vnd.jupyter.widget-view+json": {
       "model_id": "4db559543c114d1e8abe9b5c0b37cb4e",
       "version_major": 2,
       "version_minor": 0
      },
      "text/plain": [
       "VBox(children=(Tab(children=(Tab(children=(GridBox(children=(VBox(children=(GridspecLayout(children=(HTML(valu…"
      ]
     },
     "metadata": {},
     "output_type": "display_data"
    }
   ],
   "source": [
    "from pandas_profiling import ProfileReport\n",
    "# Generate the Profiling Report\n",
    "profile = ProfileReport(\n",
    "    df, title=\"Titanic Dataset\", html={\"style\": {\"full_width\": True}}, sort=\"None\"\n",
    ")\n",
    "\n",
    "# The Notebook Widgets Interface\n",
    "profile.to_widgets()\n",
    "# Or use the HTML report in an iframe\n",
    "#profile"
   ]
  },
  {
   "cell_type": "markdown",
   "metadata": {},
   "source": [
    "<a id = \"4\"></a><br>\n",
    "# Outlier Detection"
   ]
  },
  {
   "cell_type": "code",
   "execution_count": 118,
   "metadata": {},
   "outputs": [],
   "source": [
    "def detect_outliers(df,features):\n",
    "    outlier_indices = []\n",
    "    \n",
    "    for c in features:\n",
    "        # 1st quartile\n",
    "        Q1 = np.percentile(df[c],25)\n",
    "        # 3rd quartile\n",
    "        Q3 = np.percentile(df[c],75)\n",
    "        # IQR\n",
    "        IQR = Q3 - Q1\n",
    "        # Outlier step\n",
    "        outlier_step = IQR * 1.5\n",
    "        # detect outlier and their indeces\n",
    "        outlier_list_col = df[(df[c] < Q1 - outlier_step) | (df[c] > Q3 + outlier_step)].index\n",
    "        # store indeces\n",
    "        outlier_indices.extend(outlier_list_col)\n",
    "    \n",
    "    outlier_indices = Counter(outlier_indices)\n",
    "    multiple_outliers = list(i for i, v in outlier_indices.items() if v > 2)\n",
    "    \n",
    "    return multiple_outliers"
   ]
  },
  {
   "cell_type": "code",
   "execution_count": 119,
   "metadata": {},
   "outputs": [
    {
     "data": {
      "text/plain": [
       "(1309, 12)"
      ]
     },
     "execution_count": 119,
     "metadata": {},
     "output_type": "execute_result"
    }
   ],
   "source": [
    "# drop outliers\n",
    "df = df.drop(detect_outliers(df,[\"Age\",\"SibSp\",\"Parch\",\"Fare\"]),axis = 0).reset_index(drop = True)\n",
    "df.shape"
   ]
  },
  {
   "cell_type": "markdown",
   "metadata": {},
   "source": [
    "<a id = \"5\"></a><br>\n",
    "# Missing Value\n",
    "* Find Missing Value\n",
    "* Fill Missing Value"
   ]
  },
  {
   "cell_type": "markdown",
   "metadata": {},
   "source": [
    "<a id = \"9\"></a><br>\n",
    "### Find Missing Value"
   ]
  },
  {
   "cell_type": "code",
   "execution_count": 120,
   "metadata": {},
   "outputs": [
    {
     "data": {
      "text/plain": [
       "PassengerId       0\n",
       "Survived        418\n",
       "Pclass            0\n",
       "Name              0\n",
       "Sex               0\n",
       "Age             263\n",
       "SibSp             0\n",
       "Parch             0\n",
       "Ticket            0\n",
       "Fare              1\n",
       "Cabin          1014\n",
       "Embarked          2\n",
       "dtype: int64"
      ]
     },
     "execution_count": 120,
     "metadata": {},
     "output_type": "execute_result"
    }
   ],
   "source": [
    "#df.columns[train_df.isnull().any()]\n",
    "df.isnull().sum()"
   ]
  },
  {
   "cell_type": "markdown",
   "metadata": {},
   "source": [
    "<a id = \"10\"></a><br>\n",
    "### Fill Missing Value\n"
   ]
  },
  {
   "cell_type": "markdown",
   "metadata": {},
   "source": [
    "#### Filling missing Age feature values with the median Age variables"
   ]
  },
  {
   "cell_type": "code",
   "execution_count": 121,
   "metadata": {},
   "outputs": [],
   "source": [
    "## missing age values were filled in with the median value\n",
    "df[\"Age\"]=df[\"Age\"].fillna(df[\"Age\"].median())\n",
    "# #for another missing values\n",
    "# df.fillna(axis=0,method=\"ffill\", inplace=True)"
   ]
  },
  {
   "cell_type": "markdown",
   "metadata": {},
   "source": [
    "#### Filling missing Fare feature values with the equal Embarked class mean"
   ]
  },
  {
   "cell_type": "code",
   "execution_count": 10,
   "metadata": {},
   "outputs": [
    {
     "data": {
      "text/html": [
       "<div>\n",
       "<style scoped>\n",
       "    .dataframe tbody tr th:only-of-type {\n",
       "        vertical-align: middle;\n",
       "    }\n",
       "\n",
       "    .dataframe tbody tr th {\n",
       "        vertical-align: top;\n",
       "    }\n",
       "\n",
       "    .dataframe thead th {\n",
       "        text-align: right;\n",
       "    }\n",
       "</style>\n",
       "<table border=\"1\" class=\"dataframe\">\n",
       "  <thead>\n",
       "    <tr style=\"text-align: right;\">\n",
       "      <th></th>\n",
       "      <th>PassengerId</th>\n",
       "      <th>Survived</th>\n",
       "      <th>Pclass</th>\n",
       "      <th>Name</th>\n",
       "      <th>Sex</th>\n",
       "      <th>Age</th>\n",
       "      <th>SibSp</th>\n",
       "      <th>Parch</th>\n",
       "      <th>Ticket</th>\n",
       "      <th>Fare</th>\n",
       "      <th>Cabin</th>\n",
       "      <th>Embarked</th>\n",
       "    </tr>\n",
       "  </thead>\n",
       "  <tbody>\n",
       "    <tr>\n",
       "      <th>1043</th>\n",
       "      <td>1044</td>\n",
       "      <td>NaN</td>\n",
       "      <td>3</td>\n",
       "      <td>Storey, Mr. Thomas</td>\n",
       "      <td>male</td>\n",
       "      <td>60.5</td>\n",
       "      <td>0</td>\n",
       "      <td>0</td>\n",
       "      <td>3701</td>\n",
       "      <td>NaN</td>\n",
       "      <td>NaN</td>\n",
       "      <td>S</td>\n",
       "    </tr>\n",
       "  </tbody>\n",
       "</table>\n",
       "</div>"
      ],
      "text/plain": [
       "      PassengerId  Survived  Pclass                Name   Sex   Age  SibSp  \\\n",
       "1043         1044       NaN       3  Storey, Mr. Thomas  male  60.5      0   \n",
       "\n",
       "      Parch Ticket  Fare Cabin Embarked  \n",
       "1043      0   3701   NaN   NaN        S  "
      ]
     },
     "execution_count": 10,
     "metadata": {},
     "output_type": "execute_result"
    }
   ],
   "source": [
    "df[df[\"Fare\"].isnull()]"
   ]
  },
  {
   "cell_type": "code",
   "execution_count": 122,
   "metadata": {},
   "outputs": [],
   "source": [
    "df[\"Fare\"] = df[\"Fare\"].fillna(np.mean(df[df[\"Embarked\"] == \"S\"][\"Fare\"]))"
   ]
  },
  {
   "cell_type": "markdown",
   "metadata": {},
   "source": [
    "#### Filling missing Embarked feature with use forward fill method to fill out the missing values."
   ]
  },
  {
   "cell_type": "code",
   "execution_count": 123,
   "metadata": {},
   "outputs": [],
   "source": [
    "df[\"Embarked\"] = df[\"Embarked\"].fillna(method = 'ffill')"
   ]
  },
  {
   "cell_type": "code",
   "execution_count": 13,
   "metadata": {},
   "outputs": [
    {
     "data": {
      "text/plain": [
       "PassengerId       0\n",
       "Survived        418\n",
       "Pclass            0\n",
       "Name              0\n",
       "Sex               0\n",
       "Age               0\n",
       "SibSp             0\n",
       "Parch             0\n",
       "Ticket            0\n",
       "Fare              0\n",
       "Cabin          1014\n",
       "Embarked          0\n",
       "dtype: int64"
      ]
     },
     "execution_count": 13,
     "metadata": {},
     "output_type": "execute_result"
    }
   ],
   "source": [
    "df.isnull().sum()"
   ]
  },
  {
   "cell_type": "markdown",
   "metadata": {},
   "source": [
    "<a id = \"6\"></a><br>\n",
    "# Feature Engineering\n",
    "* Cleaning Unused Features\n",
    "* Convert categorical variable into dummy variables(Features)"
   ]
  },
  {
   "cell_type": "markdown",
   "metadata": {},
   "source": [
    "\n",
    "### Cleaning Unused Columns\n",
    "\n",
    "We can not use some columns for training and predicting models. Because the features does'nt have any information about the dependent variable.\n"
   ]
  },
  {
   "cell_type": "code",
   "execution_count": 124,
   "metadata": {},
   "outputs": [
    {
     "data": {
      "text/plain": [
       "(1309, 8)"
      ]
     },
     "execution_count": 124,
     "metadata": {},
     "output_type": "execute_result"
    }
   ],
   "source": [
    "df=df.drop(['PassengerId', 'Name','Ticket', 'Cabin'], axis=1)\n",
    "df.shape"
   ]
  },
  {
   "cell_type": "markdown",
   "metadata": {},
   "source": [
    "### Convert categorical variable into dummy variables"
   ]
  },
  {
   "cell_type": "code",
   "execution_count": 125,
   "metadata": {},
   "outputs": [
    {
     "name": "stdout",
     "output_type": "stream",
     "text": [
      "<class 'pandas.core.frame.DataFrame'>\n",
      "RangeIndex: 1309 entries, 0 to 1308\n",
      "Data columns (total 10 columns):\n",
      " #   Column      Non-Null Count  Dtype  \n",
      "---  ------      --------------  -----  \n",
      " 0   Survived    891 non-null    float64\n",
      " 1   Pclass      1309 non-null   int64  \n",
      " 2   Age         1309 non-null   float64\n",
      " 3   SibSp       1309 non-null   int64  \n",
      " 4   Parch       1309 non-null   int64  \n",
      " 5   Fare        1309 non-null   float64\n",
      " 6   Sex_male    1309 non-null   uint8  \n",
      " 7   Embarked_C  1309 non-null   uint8  \n",
      " 8   Embarked_Q  1309 non-null   uint8  \n",
      " 9   Embarked_S  1309 non-null   uint8  \n",
      "dtypes: float64(3), int64(3), uint8(4)\n",
      "memory usage: 66.6 KB\n"
     ]
    }
   ],
   "source": [
    "df[\"Sex\"] = df[\"Sex\"].astype(\"category\")\n",
    "df = pd.get_dummies(df, columns=[\"Sex\"],drop_first=True)\n",
    "\n",
    "df[\"Embarked\"] = df[\"Embarked\"].astype(\"category\")\n",
    "df = pd.get_dummies(df, columns=[\"Embarked\"])\n",
    "df.info()"
   ]
  },
  {
   "cell_type": "markdown",
   "metadata": {},
   "source": [
    "<a id = \"7\"></a><br>\n",
    "# Modeling"
   ]
  },
  {
   "cell_type": "code",
   "execution_count": 126,
   "metadata": {},
   "outputs": [],
   "source": [
    "import statsmodels.api as sm\n",
    "from sklearn import model_selection\n",
    "from sklearn.model_selection import train_test_split, GridSearchCV, cross_val_score, StratifiedKFold\n",
    "from sklearn.metrics import confusion_matrix, accuracy_score, mean_squared_error,r2_score, roc_auc_score, roc_curve, classification_report\n",
    "from sklearn.linear_model import LogisticRegression\n",
    "from sklearn.preprocessing import scale, StandardScaler\n",
    "from sklearn.tree import DecisionTreeClassifier\n",
    "from sklearn.neighbors import KNeighborsClassifier\n",
    "from sklearn.neural_network import MLPClassifier\n",
    "from sklearn.ensemble import RandomForestClassifier, GradientBoostingClassifier, VotingClassifier\n",
    "from sklearn.svm import SVC\n",
    "\n",
    "import xgboost\n",
    "from xgboost import XGBRFClassifier\n",
    "from lightgbm import LGBMClassifier\n",
    "from catboost import CatBoostClassifier"
   ]
  },
  {
   "cell_type": "code",
   "execution_count": 17,
   "metadata": {},
   "outputs": [
    {
     "data": {
      "text/plain": [
       "(1309, 10)"
      ]
     },
     "execution_count": 17,
     "metadata": {},
     "output_type": "execute_result"
    }
   ],
   "source": [
    "df.shape"
   ]
  },
  {
   "cell_type": "markdown",
   "metadata": {},
   "source": [
    "<a id = \"8\"></a><br>\n",
    "## Train - Test Split"
   ]
  },
  {
   "cell_type": "markdown",
   "metadata": {},
   "source": [
    "<b>New train and test data sets</b>"
   ]
  },
  {
   "cell_type": "code",
   "execution_count": 127,
   "metadata": {},
   "outputs": [
    {
     "name": "stdout",
     "output_type": "stream",
     "text": [
      "train:  891 \t test : 418\n"
     ]
    }
   ],
   "source": [
    "train = df[:len(train_df)]\n",
    "test =  df[len(train_df):]\n",
    "\n",
    "#this is for test predict\n",
    "test.drop(labels = [\"Survived\"],axis = 1, inplace = True)\n",
    "\n",
    "print(\"train: \", len(train),\"\\t test :\",len(test))"
   ]
  },
  {
   "cell_type": "code",
   "execution_count": 128,
   "metadata": {},
   "outputs": [
    {
     "name": "stdout",
     "output_type": "stream",
     "text": [
      "X_train 596\n",
      "X_test 295\n",
      "y_train 596\n",
      "y_test 295\n"
     ]
    }
   ],
   "source": [
    "X_train = train.drop(labels = \"Survived\", axis = 1)\n",
    "y_train = train[\"Survived\"]\n",
    "X_train, X_test, y_train, y_test = train_test_split(X_train, y_train, test_size = 0.33, random_state = 42)\n",
    "print(\"X_train\",len(X_train))\n",
    "print(\"X_test\",len(X_test))\n",
    "print(\"y_train\",len(y_train))\n",
    "print(\"y_test\",len(y_test))\n"
   ]
  },
  {
   "cell_type": "code",
   "execution_count": 129,
   "metadata": {},
   "outputs": [
    {
     "data": {
      "text/html": [
       "<div>\n",
       "<style scoped>\n",
       "    .dataframe tbody tr th:only-of-type {\n",
       "        vertical-align: middle;\n",
       "    }\n",
       "\n",
       "    .dataframe tbody tr th {\n",
       "        vertical-align: top;\n",
       "    }\n",
       "\n",
       "    .dataframe thead th {\n",
       "        text-align: right;\n",
       "    }\n",
       "</style>\n",
       "<table border=\"1\" class=\"dataframe\">\n",
       "  <thead>\n",
       "    <tr style=\"text-align: right;\">\n",
       "      <th></th>\n",
       "      <th>0</th>\n",
       "      <th>1</th>\n",
       "      <th>2</th>\n",
       "      <th>3</th>\n",
       "      <th>4</th>\n",
       "      <th>5</th>\n",
       "      <th>6</th>\n",
       "      <th>7</th>\n",
       "      <th>8</th>\n",
       "    </tr>\n",
       "  </thead>\n",
       "  <tbody>\n",
       "    <tr>\n",
       "      <th>0</th>\n",
       "      <td>-1.625803</td>\n",
       "      <td>1.913493</td>\n",
       "      <td>-0.469837</td>\n",
       "      <td>-0.463993</td>\n",
       "      <td>0.387842</td>\n",
       "      <td>0.726777</td>\n",
       "      <td>-0.465109</td>\n",
       "      <td>-0.312419</td>\n",
       "      <td>0.603195</td>\n",
       "    </tr>\n",
       "    <tr>\n",
       "      <th>1</th>\n",
       "      <td>0.805762</td>\n",
       "      <td>-0.094520</td>\n",
       "      <td>-0.469837</td>\n",
       "      <td>-0.463993</td>\n",
       "      <td>-0.319081</td>\n",
       "      <td>0.726777</td>\n",
       "      <td>-0.465109</td>\n",
       "      <td>3.200825</td>\n",
       "      <td>-1.657838</td>\n",
       "    </tr>\n",
       "    <tr>\n",
       "      <th>2</th>\n",
       "      <td>-0.410021</td>\n",
       "      <td>-0.326214</td>\n",
       "      <td>0.344183</td>\n",
       "      <td>2.016183</td>\n",
       "      <td>0.187924</td>\n",
       "      <td>0.726777</td>\n",
       "      <td>2.150033</td>\n",
       "      <td>-0.312419</td>\n",
       "      <td>-1.657838</td>\n",
       "    </tr>\n",
       "    <tr>\n",
       "      <th>3</th>\n",
       "      <td>0.805762</td>\n",
       "      <td>-0.248983</td>\n",
       "      <td>0.344183</td>\n",
       "      <td>-0.463993</td>\n",
       "      <td>-0.339412</td>\n",
       "      <td>0.726777</td>\n",
       "      <td>2.150033</td>\n",
       "      <td>-0.312419</td>\n",
       "      <td>-1.657838</td>\n",
       "    </tr>\n",
       "    <tr>\n",
       "      <th>4</th>\n",
       "      <td>0.805762</td>\n",
       "      <td>-0.557908</td>\n",
       "      <td>-0.469837</td>\n",
       "      <td>-0.463993</td>\n",
       "      <td>-0.415961</td>\n",
       "      <td>-1.375937</td>\n",
       "      <td>-0.465109</td>\n",
       "      <td>-0.312419</td>\n",
       "      <td>0.603195</td>\n",
       "    </tr>\n",
       "    <tr>\n",
       "      <th>...</th>\n",
       "      <td>...</td>\n",
       "      <td>...</td>\n",
       "      <td>...</td>\n",
       "      <td>...</td>\n",
       "      <td>...</td>\n",
       "      <td>...</td>\n",
       "      <td>...</td>\n",
       "      <td>...</td>\n",
       "      <td>...</td>\n",
       "    </tr>\n",
       "    <tr>\n",
       "      <th>591</th>\n",
       "      <td>0.805762</td>\n",
       "      <td>-0.635139</td>\n",
       "      <td>-0.469837</td>\n",
       "      <td>-0.463993</td>\n",
       "      <td>-0.471692</td>\n",
       "      <td>-1.375937</td>\n",
       "      <td>-0.465109</td>\n",
       "      <td>-0.312419</td>\n",
       "      <td>0.603195</td>\n",
       "    </tr>\n",
       "    <tr>\n",
       "      <th>592</th>\n",
       "      <td>-1.625803</td>\n",
       "      <td>-0.094520</td>\n",
       "      <td>-0.469837</td>\n",
       "      <td>-0.463993</td>\n",
       "      <td>-0.017745</td>\n",
       "      <td>0.726777</td>\n",
       "      <td>-0.465109</td>\n",
       "      <td>-0.312419</td>\n",
       "      <td>0.603195</td>\n",
       "    </tr>\n",
       "    <tr>\n",
       "      <th>593</th>\n",
       "      <td>0.805762</td>\n",
       "      <td>0.909486</td>\n",
       "      <td>1.158202</td>\n",
       "      <td>-0.463993</td>\n",
       "      <td>-0.346137</td>\n",
       "      <td>0.726777</td>\n",
       "      <td>-0.465109</td>\n",
       "      <td>-0.312419</td>\n",
       "      <td>0.603195</td>\n",
       "    </tr>\n",
       "    <tr>\n",
       "      <th>594</th>\n",
       "      <td>-1.625803</td>\n",
       "      <td>-1.175758</td>\n",
       "      <td>0.344183</td>\n",
       "      <td>2.016183</td>\n",
       "      <td>1.712501</td>\n",
       "      <td>-1.375937</td>\n",
       "      <td>-0.465109</td>\n",
       "      <td>-0.312419</td>\n",
       "      <td>0.603195</td>\n",
       "    </tr>\n",
       "    <tr>\n",
       "      <th>595</th>\n",
       "      <td>-1.625803</td>\n",
       "      <td>-0.635139</td>\n",
       "      <td>-0.469837</td>\n",
       "      <td>0.776095</td>\n",
       "      <td>0.882129</td>\n",
       "      <td>0.726777</td>\n",
       "      <td>-0.465109</td>\n",
       "      <td>-0.312419</td>\n",
       "      <td>0.603195</td>\n",
       "    </tr>\n",
       "  </tbody>\n",
       "</table>\n",
       "<p>596 rows × 9 columns</p>\n",
       "</div>"
      ],
      "text/plain": [
       "            0         1         2         3         4         5         6  \\\n",
       "0   -1.625803  1.913493 -0.469837 -0.463993  0.387842  0.726777 -0.465109   \n",
       "1    0.805762 -0.094520 -0.469837 -0.463993 -0.319081  0.726777 -0.465109   \n",
       "2   -0.410021 -0.326214  0.344183  2.016183  0.187924  0.726777  2.150033   \n",
       "3    0.805762 -0.248983  0.344183 -0.463993 -0.339412  0.726777  2.150033   \n",
       "4    0.805762 -0.557908 -0.469837 -0.463993 -0.415961 -1.375937 -0.465109   \n",
       "..        ...       ...       ...       ...       ...       ...       ...   \n",
       "591  0.805762 -0.635139 -0.469837 -0.463993 -0.471692 -1.375937 -0.465109   \n",
       "592 -1.625803 -0.094520 -0.469837 -0.463993 -0.017745  0.726777 -0.465109   \n",
       "593  0.805762  0.909486  1.158202 -0.463993 -0.346137  0.726777 -0.465109   \n",
       "594 -1.625803 -1.175758  0.344183  2.016183  1.712501 -1.375937 -0.465109   \n",
       "595 -1.625803 -0.635139 -0.469837  0.776095  0.882129  0.726777 -0.465109   \n",
       "\n",
       "            7         8  \n",
       "0   -0.312419  0.603195  \n",
       "1    3.200825 -1.657838  \n",
       "2   -0.312419 -1.657838  \n",
       "3   -0.312419 -1.657838  \n",
       "4   -0.312419  0.603195  \n",
       "..        ...       ...  \n",
       "591 -0.312419  0.603195  \n",
       "592 -0.312419  0.603195  \n",
       "593 -0.312419  0.603195  \n",
       "594 -0.312419  0.603195  \n",
       "595 -0.312419  0.603195  \n",
       "\n",
       "[596 rows x 9 columns]"
      ]
     },
     "execution_count": 129,
     "metadata": {},
     "output_type": "execute_result"
    }
   ],
   "source": [
    "from sklearn import preprocessing\n",
    "\n",
    "scaler = preprocessing.StandardScaler().fit(X_train)\n",
    "X_train = scaler.transform(X_train)\n",
    "X_test= scaler.transform(X_test)\n",
    "pd.DataFrame(X_train)"
   ]
  },
  {
   "cell_type": "code",
   "execution_count": 130,
   "metadata": {},
   "outputs": [
    {
     "data": {
      "text/html": [
       "<div>\n",
       "<style scoped>\n",
       "    .dataframe tbody tr th:only-of-type {\n",
       "        vertical-align: middle;\n",
       "    }\n",
       "\n",
       "    .dataframe tbody tr th {\n",
       "        vertical-align: top;\n",
       "    }\n",
       "\n",
       "    .dataframe thead th {\n",
       "        text-align: right;\n",
       "    }\n",
       "</style>\n",
       "<table border=\"1\" class=\"dataframe\">\n",
       "  <thead>\n",
       "    <tr style=\"text-align: right;\">\n",
       "      <th></th>\n",
       "      <th>Survived</th>\n",
       "    </tr>\n",
       "  </thead>\n",
       "  <tbody>\n",
       "    <tr>\n",
       "      <th>709</th>\n",
       "      <td>1</td>\n",
       "    </tr>\n",
       "    <tr>\n",
       "      <th>439</th>\n",
       "      <td>0</td>\n",
       "    </tr>\n",
       "    <tr>\n",
       "      <th>840</th>\n",
       "      <td>0</td>\n",
       "    </tr>\n",
       "  </tbody>\n",
       "</table>\n",
       "</div>"
      ],
      "text/plain": [
       "     Survived\n",
       "709         1\n",
       "439         0\n",
       "840         0"
      ]
     },
     "execution_count": 130,
     "metadata": {},
     "output_type": "execute_result"
    }
   ],
   "source": [
    "y_train = y_train.astype('int')\n",
    "y_test = y_test.astype('int')\n",
    "pd.DataFrame(y_test).head(3)"
   ]
  },
  {
   "cell_type": "markdown",
   "metadata": {},
   "source": [
    "<a id = \"9\"></a><br>\n",
    "## Hyperparameter and Model Tuning -- Grid Search -- Cross Validation\n",
    "We will compare 10 machine learning classifier and evaluate mean accuracy of each of them by stratified cross validation.\n",
    "\n",
    "* Decision Tree\n",
    "* SVM\n",
    "* Random Forest\n",
    "* KNN\n",
    "* Logistic Regression\n",
    "* GradientBoostingClassifier\n",
    "* MLPClassifier\n",
    "* XGBRFClassifier\n",
    "* LGBMClassifier\n",
    "* CatBoostClassifier"
   ]
  },
  {
   "cell_type": "markdown",
   "metadata": {},
   "source": [
    "Describe to used 10 different Machine Learning classficiation algorithms"
   ]
  },
  {
   "cell_type": "code",
   "execution_count": 22,
   "metadata": {},
   "outputs": [],
   "source": [
    "random_state = 42\n",
    "classifier = [DecisionTreeClassifier(random_state = random_state),\n",
    "             SVC(random_state = random_state),\n",
    "             RandomForestClassifier(random_state = random_state),\n",
    "             LogisticRegression(random_state = random_state),\n",
    "             KNeighborsClassifier(),\n",
    "             GradientBoostingClassifier(random_state = random_state),\n",
    "             MLPClassifier(random_state = random_state),\n",
    "             XGBRFClassifier(random_state = random_state),\n",
    "             LGBMClassifier(random_state = random_state),\n",
    "             CatBoostClassifier(random_state = random_state)]"
   ]
  },
  {
   "cell_type": "markdown",
   "metadata": {},
   "source": [
    "Determination of hyperparameter value ranges that can be used for each machine learning model."
   ]
  },
  {
   "cell_type": "code",
   "execution_count": 23,
   "metadata": {},
   "outputs": [],
   "source": [
    "dt_params = {\"min_samples_split\" : range(1,500,20),\n",
    "                \"max_depth\": range(1,20,2)}\n",
    "\n",
    "svc_params = {\"kernel\" : [\"linear\",\"rbf\"],\n",
    "                 \"gamma\": [0.001, 0.01, 0.1, 1],\n",
    "                 \"C\": [1,5,10,30,70,100,200,500]}\n",
    "\n",
    "rf_params = {\"max_features\" : [1,3,5,7,10],\n",
    "              \"n_estimators\" : [100, 250,500,1000], \n",
    "              \"min_samples_split\": [2,5,10,20,50],\n",
    "                 \"min_samples_leaf\":[1,3,10],\n",
    "                \"bootstrap\":[False],\n",
    "                \"criterion\":[\"gini\"]}\n",
    "\n",
    "logreg_params = {\"C\":np.logspace(-3,3,7),\n",
    "                    \"penalty\": [\"l1\",\"l2\"]}\n",
    "\n",
    "knn_params = {\"n_neighbors\": np.linspace(1,50,10, dtype = int).tolist(),\n",
    "                 \"weights\": [\"uniform\",\"distance\"],\n",
    "                 \"metric\":[\"euclidean\",\"manhattan\"]}\n",
    "\n",
    "gbc_params = { \"learning_rate\":[0.01,0.001,0.1,0.05],\n",
    "                  \"max_depth\": [2,3,5,8],\n",
    "                  \"n_estimators\": [100,300,500,1000]}\n",
    "\n",
    "mlp_params = {\"alpha\":[1,2,3,0.1,0.01,0.03,0.005,0.002,0.0001],\n",
    "                  \"hidden_layer_sizes\": [(10,20),(5,5),(100,100,100),(100,100),(3,5)],\n",
    "              \"solver\":[\"lbfgs\",\"adam\"]}\n",
    "\n",
    "xgb_params = { \"learning_rate\":[0.01,0.1,0.001], \n",
    "              \"max_depth\": [3,5,7],        \n",
    "              \"n_estimators\": [100,500,100],\n",
    "              \"subsample\": [0.6,0.8,1]}  \n",
    "\n",
    "lgbm_params = {\"learning_rate\" : [0.01, 0.1, 0.001],\n",
    "               \"n_estimators\" : [200,500,100],\n",
    "               \"max_depth\" : [1,2,35,8]}\n",
    "\n",
    "catb_params = {\"learning_rate\" : [0.01, 0.03,0.1],\n",
    "               \"iterations\" : [1000,200,500],  \n",
    "               \"depth\" : [4,5,8]}"
   ]
  },
  {
   "cell_type": "code",
   "execution_count": 24,
   "metadata": {},
   "outputs": [],
   "source": [
    "classifier_params = [dt_params,\n",
    "                   svc_params,\n",
    "                   rf_params,\n",
    "                   logreg_params,\n",
    "                   knn_params,\n",
    "                   gbc_params,\n",
    "                   mlp_params,\n",
    "                   xgb_params,\n",
    "                   lgbm_params,\n",
    "                   catb_params]"
   ]
  },
  {
   "cell_type": "markdown",
   "metadata": {},
   "source": [
    "Creating separate GridSearch architecture for each model and obtaining the best average results for Cross-validation."
   ]
  },
  {
   "cell_type": "code",
   "execution_count": 25,
   "metadata": {
    "scrolled": false
   },
   "outputs": [
    {
     "name": "stdout",
     "output_type": "stream",
     "text": [
      "Fitting 10 folds for each of 250 candidates, totalling 2500 fits\n",
      "\n",
      " DecisionTreeClassifier(random_state=42)\n",
      "0.8172033898305084 \n",
      "\n",
      "Fitting 10 folds for each of 64 candidates, totalling 640 fits\n",
      "\n",
      " SVC(random_state=42)\n",
      "0.8287853107344632 \n",
      "\n",
      "Fitting 10 folds for each of 300 candidates, totalling 3000 fits\n",
      "\n",
      " RandomForestClassifier(random_state=42)\n",
      "0.8288700564971749 \n",
      "\n",
      "Fitting 10 folds for each of 14 candidates, totalling 140 fits\n",
      "\n",
      " LogisticRegression(random_state=42)\n",
      "0.8001412429378532 \n",
      "\n",
      "Fitting 10 folds for each of 40 candidates, totalling 400 fits\n",
      "\n",
      " KNeighborsClassifier()\n",
      "0.817090395480226 \n",
      "\n",
      "Fitting 10 folds for each of 64 candidates, totalling 640 fits\n",
      "\n",
      " GradientBoostingClassifier(random_state=42)\n",
      "0.8271468926553671 \n",
      "\n",
      "Fitting 10 folds for each of 90 candidates, totalling 900 fits\n",
      "\n",
      " MLPClassifier(random_state=42)\n",
      "0.828728813559322 \n",
      "\n",
      "Fitting 10 folds for each of 81 candidates, totalling 810 fits\n",
      "[00:07:12] WARNING: ../src/learner.cc:1061: Starting in XGBoost 1.3.0, the default evaluation metric used with the objective 'binary:logistic' was changed from 'error' to 'logloss'. Explicitly set eval_metric if you'd like to restore the old behavior.\n",
      "\n",
      " XGBRFClassifier(base_score=None, booster=None, colsample_bylevel=None,\n",
      "                colsample_bytree=None, gamma=None, gpu_id=None,\n",
      "                importance_type='gain', interaction_constraints=None,\n",
      "                max_delta_step=None, max_depth=None, min_child_weight=None,\n",
      "                missing=nan, monotone_constraints=None, n_estimators=100,\n",
      "                n_jobs=None, num_parallel_tree=None,\n",
      "                objective='binary:logistic', random_state=42, reg_alpha=None,\n",
      "                scale_pos_weight=None, tree_method=None,\n",
      "                validate_parameters=None, verbosity=None)\n",
      "0.8204519774011299 \n",
      "\n",
      "Fitting 10 folds for each of 36 candidates, totalling 360 fits\n",
      "[LightGBM] [Warning] Accuracy may be bad since you didn't explicitly set num_leaves OR 2^max_depth > num_leaves. (num_leaves=31).\n",
      "\n",
      " LGBMClassifier(random_state=42)\n",
      "0.8271186440677966 \n",
      "\n",
      "Fitting 10 folds for each of 27 candidates, totalling 270 fits\n",
      "0:\tlearn: 0.6792615\ttotal: 48.6ms\tremaining: 24.2s\n",
      "1:\tlearn: 0.6614423\ttotal: 49.7ms\tremaining: 12.4s\n",
      "2:\tlearn: 0.6459936\ttotal: 50.4ms\tremaining: 8.35s\n",
      "3:\tlearn: 0.6341847\ttotal: 51.1ms\tremaining: 6.33s\n",
      "4:\tlearn: 0.6203612\ttotal: 51.8ms\tremaining: 5.12s\n",
      "5:\tlearn: 0.6060406\ttotal: 52.4ms\tremaining: 4.32s\n",
      "6:\tlearn: 0.5944463\ttotal: 53.1ms\tremaining: 3.74s\n",
      "7:\tlearn: 0.5869108\ttotal: 53.8ms\tremaining: 3.31s\n",
      "8:\tlearn: 0.5742031\ttotal: 54.5ms\tremaining: 2.97s\n",
      "9:\tlearn: 0.5663575\ttotal: 55.2ms\tremaining: 2.7s\n",
      "10:\tlearn: 0.5552313\ttotal: 55.8ms\tremaining: 2.48s\n",
      "11:\tlearn: 0.5470757\ttotal: 56.5ms\tremaining: 2.3s\n",
      "12:\tlearn: 0.5383558\ttotal: 57.2ms\tremaining: 2.14s\n",
      "13:\tlearn: 0.5310004\ttotal: 57.9ms\tremaining: 2.01s\n",
      "14:\tlearn: 0.5229878\ttotal: 58.6ms\tremaining: 1.89s\n",
      "15:\tlearn: 0.5166289\ttotal: 59.2ms\tremaining: 1.79s\n",
      "16:\tlearn: 0.5115086\ttotal: 59.9ms\tremaining: 1.7s\n",
      "17:\tlearn: 0.5065468\ttotal: 60.6ms\tremaining: 1.62s\n",
      "18:\tlearn: 0.5018572\ttotal: 61.3ms\tremaining: 1.55s\n",
      "19:\tlearn: 0.4962424\ttotal: 62ms\tremaining: 1.49s\n",
      "20:\tlearn: 0.4913459\ttotal: 62.6ms\tremaining: 1.43s\n",
      "21:\tlearn: 0.4871324\ttotal: 63.3ms\tremaining: 1.38s\n",
      "22:\tlearn: 0.4827041\ttotal: 64ms\tremaining: 1.33s\n",
      "23:\tlearn: 0.4790223\ttotal: 64.7ms\tremaining: 1.28s\n",
      "24:\tlearn: 0.4751357\ttotal: 65.5ms\tremaining: 1.24s\n",
      "25:\tlearn: 0.4720830\ttotal: 66.2ms\tremaining: 1.21s\n",
      "26:\tlearn: 0.4687277\ttotal: 67ms\tremaining: 1.17s\n",
      "27:\tlearn: 0.4656694\ttotal: 67.7ms\tremaining: 1.14s\n",
      "28:\tlearn: 0.4638326\ttotal: 68.4ms\tremaining: 1.11s\n",
      "29:\tlearn: 0.4622247\ttotal: 69.1ms\tremaining: 1.08s\n",
      "30:\tlearn: 0.4600113\ttotal: 69.8ms\tremaining: 1.05s\n",
      "31:\tlearn: 0.4582121\ttotal: 70.4ms\tremaining: 1.03s\n",
      "32:\tlearn: 0.4548005\ttotal: 71.1ms\tremaining: 1.01s\n",
      "33:\tlearn: 0.4527879\ttotal: 71.8ms\tremaining: 984ms\n",
      "34:\tlearn: 0.4510200\ttotal: 72.4ms\tremaining: 963ms\n",
      "35:\tlearn: 0.4492399\ttotal: 73.1ms\tremaining: 942ms\n",
      "36:\tlearn: 0.4465452\ttotal: 73.8ms\tremaining: 923ms\n",
      "37:\tlearn: 0.4435938\ttotal: 74.5ms\tremaining: 905ms\n",
      "38:\tlearn: 0.4418562\ttotal: 75.2ms\tremaining: 888ms\n",
      "39:\tlearn: 0.4406368\ttotal: 75.8ms\tremaining: 871ms\n",
      "40:\tlearn: 0.4389560\ttotal: 76.4ms\tremaining: 855ms\n",
      "41:\tlearn: 0.4375509\ttotal: 77.1ms\tremaining: 841ms\n",
      "42:\tlearn: 0.4355825\ttotal: 77.8ms\tremaining: 827ms\n",
      "43:\tlearn: 0.4336648\ttotal: 78.6ms\tremaining: 815ms\n",
      "44:\tlearn: 0.4305238\ttotal: 79.3ms\tremaining: 802ms\n",
      "45:\tlearn: 0.4282438\ttotal: 80ms\tremaining: 790ms\n",
      "46:\tlearn: 0.4265829\ttotal: 80.7ms\tremaining: 778ms\n",
      "47:\tlearn: 0.4251893\ttotal: 81.4ms\tremaining: 767ms\n",
      "48:\tlearn: 0.4241288\ttotal: 82.2ms\tremaining: 756ms\n",
      "49:\tlearn: 0.4233513\ttotal: 82.9ms\tremaining: 746ms\n",
      "50:\tlearn: 0.4223911\ttotal: 83.6ms\tremaining: 736ms\n",
      "51:\tlearn: 0.4213411\ttotal: 84.2ms\tremaining: 726ms\n",
      "52:\tlearn: 0.4199390\ttotal: 85ms\tremaining: 717ms\n",
      "53:\tlearn: 0.4187890\ttotal: 85.7ms\tremaining: 708ms\n",
      "54:\tlearn: 0.4175260\ttotal: 86.4ms\tremaining: 699ms\n",
      "55:\tlearn: 0.4160161\ttotal: 87.1ms\tremaining: 690ms\n",
      "56:\tlearn: 0.4153311\ttotal: 87.8ms\tremaining: 682ms\n",
      "57:\tlearn: 0.4144154\ttotal: 88.5ms\tremaining: 675ms\n",
      "58:\tlearn: 0.4125615\ttotal: 89.2ms\tremaining: 667ms\n",
      "59:\tlearn: 0.4121938\ttotal: 89.9ms\tremaining: 659ms\n",
      "60:\tlearn: 0.4112103\ttotal: 90.6ms\tremaining: 652ms\n",
      "61:\tlearn: 0.4100817\ttotal: 91.2ms\tremaining: 645ms\n",
      "62:\tlearn: 0.4094752\ttotal: 91.9ms\tremaining: 638ms\n",
      "63:\tlearn: 0.4080787\ttotal: 92.7ms\tremaining: 631ms\n",
      "64:\tlearn: 0.4073283\ttotal: 93.4ms\tremaining: 625ms\n",
      "65:\tlearn: 0.4067922\ttotal: 94.1ms\tremaining: 619ms\n",
      "66:\tlearn: 0.4063840\ttotal: 94.9ms\tremaining: 613ms\n",
      "67:\tlearn: 0.4057911\ttotal: 95.6ms\tremaining: 607ms\n",
      "68:\tlearn: 0.4051147\ttotal: 96.3ms\tremaining: 602ms\n",
      "69:\tlearn: 0.4043070\ttotal: 97ms\tremaining: 596ms\n",
      "70:\tlearn: 0.4036253\ttotal: 97.7ms\tremaining: 591ms\n",
      "71:\tlearn: 0.4026743\ttotal: 98.4ms\tremaining: 585ms\n",
      "72:\tlearn: 0.4021222\ttotal: 99.1ms\tremaining: 580ms\n",
      "73:\tlearn: 0.4012030\ttotal: 99.9ms\tremaining: 575ms\n",
      "74:\tlearn: 0.4006350\ttotal: 101ms\tremaining: 570ms\n",
      "75:\tlearn: 0.3999431\ttotal: 101ms\tremaining: 565ms\n",
      "76:\tlearn: 0.3994036\ttotal: 102ms\tremaining: 561ms\n",
      "77:\tlearn: 0.3985112\ttotal: 103ms\tremaining: 556ms\n",
      "78:\tlearn: 0.3975349\ttotal: 104ms\tremaining: 552ms\n",
      "79:\tlearn: 0.3966465\ttotal: 104ms\tremaining: 547ms\n",
      "80:\tlearn: 0.3961588\ttotal: 105ms\tremaining: 543ms\n",
      "81:\tlearn: 0.3954003\ttotal: 106ms\tremaining: 538ms\n",
      "82:\tlearn: 0.3950073\ttotal: 106ms\tremaining: 534ms\n",
      "83:\tlearn: 0.3942083\ttotal: 107ms\tremaining: 529ms\n",
      "84:\tlearn: 0.3935896\ttotal: 108ms\tremaining: 525ms\n",
      "85:\tlearn: 0.3928289\ttotal: 108ms\tremaining: 521ms\n",
      "86:\tlearn: 0.3923382\ttotal: 109ms\tremaining: 518ms\n",
      "87:\tlearn: 0.3917879\ttotal: 110ms\tremaining: 514ms\n",
      "88:\tlearn: 0.3912256\ttotal: 110ms\tremaining: 510ms\n",
      "89:\tlearn: 0.3909340\ttotal: 111ms\tremaining: 507ms\n",
      "90:\tlearn: 0.3904325\ttotal: 112ms\tremaining: 503ms\n",
      "91:\tlearn: 0.3901853\ttotal: 113ms\tremaining: 500ms\n",
      "92:\tlearn: 0.3900011\ttotal: 113ms\tremaining: 496ms\n",
      "93:\tlearn: 0.3894744\ttotal: 114ms\tremaining: 493ms\n",
      "94:\tlearn: 0.3890570\ttotal: 115ms\tremaining: 490ms\n",
      "95:\tlearn: 0.3882582\ttotal: 116ms\tremaining: 486ms\n",
      "96:\tlearn: 0.3877923\ttotal: 116ms\tremaining: 483ms\n",
      "97:\tlearn: 0.3872020\ttotal: 117ms\tremaining: 480ms\n",
      "98:\tlearn: 0.3866539\ttotal: 118ms\tremaining: 477ms\n",
      "99:\tlearn: 0.3863910\ttotal: 119ms\tremaining: 474ms\n",
      "100:\tlearn: 0.3858045\ttotal: 119ms\tremaining: 471ms\n",
      "101:\tlearn: 0.3850855\ttotal: 120ms\tremaining: 468ms\n",
      "102:\tlearn: 0.3846439\ttotal: 121ms\tremaining: 465ms\n",
      "103:\tlearn: 0.3842766\ttotal: 121ms\tremaining: 462ms\n",
      "104:\tlearn: 0.3839970\ttotal: 122ms\tremaining: 459ms\n",
      "105:\tlearn: 0.3838138\ttotal: 123ms\tremaining: 456ms\n",
      "106:\tlearn: 0.3835981\ttotal: 123ms\tremaining: 454ms\n",
      "107:\tlearn: 0.3833657\ttotal: 124ms\tremaining: 451ms\n",
      "108:\tlearn: 0.3827540\ttotal: 125ms\tremaining: 448ms\n",
      "109:\tlearn: 0.3821452\ttotal: 126ms\tremaining: 445ms\n",
      "110:\tlearn: 0.3815236\ttotal: 126ms\tremaining: 443ms\n",
      "111:\tlearn: 0.3812431\ttotal: 127ms\tremaining: 440ms\n",
      "112:\tlearn: 0.3809035\ttotal: 128ms\tremaining: 437ms\n",
      "113:\tlearn: 0.3805950\ttotal: 128ms\tremaining: 434ms\n",
      "114:\tlearn: 0.3801435\ttotal: 129ms\tremaining: 432ms\n",
      "115:\tlearn: 0.3799303\ttotal: 130ms\tremaining: 430ms\n",
      "116:\tlearn: 0.3797348\ttotal: 131ms\tremaining: 428ms\n",
      "117:\tlearn: 0.3792111\ttotal: 131ms\tremaining: 425ms\n",
      "118:\tlearn: 0.3788034\ttotal: 132ms\tremaining: 423ms\n",
      "119:\tlearn: 0.3786024\ttotal: 133ms\tremaining: 420ms\n",
      "120:\tlearn: 0.3783019\ttotal: 133ms\tremaining: 418ms\n",
      "121:\tlearn: 0.3780278\ttotal: 134ms\tremaining: 416ms\n",
      "122:\tlearn: 0.3775638\ttotal: 135ms\tremaining: 413ms\n",
      "123:\tlearn: 0.3771119\ttotal: 136ms\tremaining: 411ms\n",
      "124:\tlearn: 0.3769602\ttotal: 136ms\tremaining: 409ms\n",
      "125:\tlearn: 0.3767496\ttotal: 137ms\tremaining: 406ms\n",
      "126:\tlearn: 0.3764938\ttotal: 138ms\tremaining: 404ms\n",
      "127:\tlearn: 0.3761848\ttotal: 138ms\tremaining: 402ms\n",
      "128:\tlearn: 0.3757545\ttotal: 139ms\tremaining: 400ms\n",
      "129:\tlearn: 0.3753834\ttotal: 140ms\tremaining: 398ms\n",
      "130:\tlearn: 0.3749723\ttotal: 140ms\tremaining: 396ms\n",
      "131:\tlearn: 0.3747550\ttotal: 141ms\tremaining: 394ms\n",
      "132:\tlearn: 0.3741342\ttotal: 142ms\tremaining: 391ms\n",
      "133:\tlearn: 0.3737381\ttotal: 142ms\tremaining: 389ms\n",
      "134:\tlearn: 0.3734718\ttotal: 143ms\tremaining: 387ms\n",
      "135:\tlearn: 0.3727177\ttotal: 144ms\tremaining: 385ms\n",
      "136:\tlearn: 0.3725758\ttotal: 145ms\tremaining: 383ms\n",
      "137:\tlearn: 0.3724421\ttotal: 145ms\tremaining: 381ms\n",
      "138:\tlearn: 0.3720475\ttotal: 146ms\tremaining: 379ms\n",
      "139:\tlearn: 0.3714796\ttotal: 147ms\tremaining: 377ms\n",
      "140:\tlearn: 0.3713774\ttotal: 147ms\tremaining: 375ms\n",
      "141:\tlearn: 0.3712683\ttotal: 148ms\tremaining: 373ms\n",
      "142:\tlearn: 0.3709804\ttotal: 149ms\tremaining: 371ms\n",
      "143:\tlearn: 0.3707358\ttotal: 149ms\tremaining: 369ms\n",
      "144:\tlearn: 0.3702856\ttotal: 150ms\tremaining: 367ms\n",
      "145:\tlearn: 0.3700984\ttotal: 151ms\tremaining: 365ms\n",
      "146:\tlearn: 0.3699882\ttotal: 151ms\tremaining: 363ms\n",
      "147:\tlearn: 0.3697307\ttotal: 152ms\tremaining: 362ms\n",
      "148:\tlearn: 0.3693795\ttotal: 153ms\tremaining: 360ms\n",
      "149:\tlearn: 0.3687600\ttotal: 153ms\tremaining: 358ms\n",
      "150:\tlearn: 0.3684309\ttotal: 154ms\tremaining: 356ms\n",
      "151:\tlearn: 0.3681034\ttotal: 155ms\tremaining: 354ms\n",
      "152:\tlearn: 0.3680018\ttotal: 155ms\tremaining: 353ms\n",
      "153:\tlearn: 0.3674973\ttotal: 156ms\tremaining: 351ms\n",
      "154:\tlearn: 0.3671184\ttotal: 157ms\tremaining: 349ms\n",
      "155:\tlearn: 0.3667809\ttotal: 158ms\tremaining: 348ms\n",
      "156:\tlearn: 0.3661934\ttotal: 158ms\tremaining: 346ms\n",
      "157:\tlearn: 0.3658838\ttotal: 159ms\tremaining: 344ms\n",
      "158:\tlearn: 0.3657158\ttotal: 160ms\tremaining: 343ms\n",
      "159:\tlearn: 0.3654255\ttotal: 160ms\tremaining: 341ms\n",
      "160:\tlearn: 0.3652158\ttotal: 161ms\tremaining: 339ms\n",
      "161:\tlearn: 0.3649131\ttotal: 162ms\tremaining: 338ms\n",
      "162:\tlearn: 0.3644012\ttotal: 163ms\tremaining: 336ms\n",
      "163:\tlearn: 0.3641424\ttotal: 163ms\tremaining: 335ms\n",
      "164:\tlearn: 0.3640048\ttotal: 164ms\tremaining: 333ms\n",
      "165:\tlearn: 0.3636356\ttotal: 165ms\tremaining: 331ms\n",
      "166:\tlearn: 0.3635107\ttotal: 165ms\tremaining: 330ms\n",
      "167:\tlearn: 0.3629644\ttotal: 166ms\tremaining: 328ms\n",
      "168:\tlearn: 0.3627594\ttotal: 167ms\tremaining: 326ms\n",
      "169:\tlearn: 0.3626846\ttotal: 167ms\tremaining: 325ms\n",
      "170:\tlearn: 0.3625797\ttotal: 168ms\tremaining: 324ms\n",
      "171:\tlearn: 0.3625278\ttotal: 169ms\tremaining: 322ms\n",
      "172:\tlearn: 0.3619431\ttotal: 170ms\tremaining: 321ms\n",
      "173:\tlearn: 0.3619270\ttotal: 170ms\tremaining: 319ms\n",
      "174:\tlearn: 0.3616261\ttotal: 171ms\tremaining: 317ms\n",
      "175:\tlearn: 0.3612924\ttotal: 172ms\tremaining: 316ms\n",
      "176:\tlearn: 0.3610038\ttotal: 172ms\tremaining: 314ms\n",
      "177:\tlearn: 0.3604022\ttotal: 173ms\tremaining: 313ms\n",
      "178:\tlearn: 0.3600214\ttotal: 174ms\tremaining: 311ms\n",
      "179:\tlearn: 0.3599638\ttotal: 174ms\tremaining: 310ms\n",
      "180:\tlearn: 0.3598519\ttotal: 175ms\tremaining: 308ms\n",
      "181:\tlearn: 0.3597088\ttotal: 176ms\tremaining: 307ms\n",
      "182:\tlearn: 0.3593310\ttotal: 176ms\tremaining: 306ms\n",
      "183:\tlearn: 0.3592278\ttotal: 177ms\tremaining: 304ms\n",
      "184:\tlearn: 0.3590949\ttotal: 178ms\tremaining: 303ms\n",
      "185:\tlearn: 0.3588879\ttotal: 179ms\tremaining: 301ms\n",
      "186:\tlearn: 0.3587063\ttotal: 179ms\tremaining: 300ms\n",
      "187:\tlearn: 0.3585367\ttotal: 180ms\tremaining: 299ms\n",
      "188:\tlearn: 0.3584472\ttotal: 181ms\tremaining: 297ms\n",
      "189:\tlearn: 0.3577089\ttotal: 181ms\tremaining: 296ms\n",
      "190:\tlearn: 0.3573906\ttotal: 182ms\tremaining: 294ms\n",
      "191:\tlearn: 0.3571550\ttotal: 183ms\tremaining: 293ms\n",
      "192:\tlearn: 0.3570459\ttotal: 183ms\tremaining: 292ms\n",
      "193:\tlearn: 0.3569315\ttotal: 184ms\tremaining: 290ms\n",
      "194:\tlearn: 0.3565437\ttotal: 185ms\tremaining: 289ms\n",
      "195:\tlearn: 0.3562678\ttotal: 185ms\tremaining: 287ms\n",
      "196:\tlearn: 0.3560549\ttotal: 186ms\tremaining: 286ms\n",
      "197:\tlearn: 0.3557261\ttotal: 187ms\tremaining: 285ms\n",
      "198:\tlearn: 0.3556630\ttotal: 187ms\tremaining: 283ms\n",
      "199:\tlearn: 0.3554638\ttotal: 188ms\tremaining: 282ms\n",
      "200:\tlearn: 0.3548308\ttotal: 189ms\tremaining: 281ms\n",
      "201:\tlearn: 0.3547342\ttotal: 189ms\tremaining: 279ms\n",
      "202:\tlearn: 0.3545759\ttotal: 190ms\tremaining: 278ms\n",
      "203:\tlearn: 0.3540302\ttotal: 191ms\tremaining: 277ms\n",
      "204:\tlearn: 0.3539475\ttotal: 191ms\tremaining: 275ms\n",
      "205:\tlearn: 0.3538000\ttotal: 192ms\tremaining: 274ms\n",
      "206:\tlearn: 0.3534864\ttotal: 193ms\tremaining: 273ms\n",
      "207:\tlearn: 0.3531842\ttotal: 193ms\tremaining: 271ms\n",
      "208:\tlearn: 0.3528805\ttotal: 194ms\tremaining: 270ms\n",
      "209:\tlearn: 0.3527419\ttotal: 195ms\tremaining: 269ms\n",
      "210:\tlearn: 0.3523338\ttotal: 195ms\tremaining: 268ms\n",
      "211:\tlearn: 0.3517548\ttotal: 196ms\tremaining: 266ms\n",
      "212:\tlearn: 0.3515756\ttotal: 197ms\tremaining: 265ms\n",
      "213:\tlearn: 0.3511904\ttotal: 197ms\tremaining: 264ms\n",
      "214:\tlearn: 0.3510492\ttotal: 198ms\tremaining: 262ms\n",
      "215:\tlearn: 0.3508145\ttotal: 199ms\tremaining: 261ms\n",
      "216:\tlearn: 0.3505438\ttotal: 199ms\tremaining: 260ms\n",
      "217:\tlearn: 0.3503294\ttotal: 200ms\tremaining: 259ms\n",
      "218:\tlearn: 0.3500234\ttotal: 201ms\tremaining: 257ms\n",
      "219:\tlearn: 0.3494313\ttotal: 201ms\tremaining: 256ms\n",
      "220:\tlearn: 0.3491935\ttotal: 202ms\tremaining: 255ms\n",
      "221:\tlearn: 0.3490643\ttotal: 203ms\tremaining: 254ms\n",
      "222:\tlearn: 0.3488847\ttotal: 204ms\tremaining: 253ms\n",
      "223:\tlearn: 0.3487051\ttotal: 204ms\tremaining: 252ms\n",
      "224:\tlearn: 0.3480716\ttotal: 205ms\tremaining: 250ms\n",
      "225:\tlearn: 0.3479589\ttotal: 206ms\tremaining: 249ms\n",
      "226:\tlearn: 0.3475320\ttotal: 206ms\tremaining: 248ms\n",
      "227:\tlearn: 0.3474465\ttotal: 207ms\tremaining: 247ms\n",
      "228:\tlearn: 0.3470928\ttotal: 208ms\tremaining: 246ms\n",
      "229:\tlearn: 0.3469402\ttotal: 208ms\tremaining: 244ms\n",
      "230:\tlearn: 0.3467099\ttotal: 209ms\tremaining: 243ms\n",
      "231:\tlearn: 0.3463672\ttotal: 210ms\tremaining: 242ms\n",
      "232:\tlearn: 0.3459883\ttotal: 210ms\tremaining: 241ms\n",
      "233:\tlearn: 0.3457985\ttotal: 211ms\tremaining: 240ms\n",
      "234:\tlearn: 0.3456131\ttotal: 212ms\tremaining: 239ms\n",
      "235:\tlearn: 0.3452922\ttotal: 212ms\tremaining: 238ms\n",
      "236:\tlearn: 0.3448448\ttotal: 213ms\tremaining: 236ms\n",
      "237:\tlearn: 0.3446912\ttotal: 214ms\tremaining: 235ms\n",
      "238:\tlearn: 0.3446255\ttotal: 214ms\tremaining: 234ms\n",
      "239:\tlearn: 0.3441076\ttotal: 215ms\tremaining: 233ms\n",
      "240:\tlearn: 0.3435565\ttotal: 216ms\tremaining: 232ms\n",
      "241:\tlearn: 0.3433213\ttotal: 217ms\tremaining: 231ms\n",
      "242:\tlearn: 0.3428083\ttotal: 217ms\tremaining: 230ms\n",
      "243:\tlearn: 0.3424070\ttotal: 218ms\tremaining: 229ms\n",
      "244:\tlearn: 0.3420659\ttotal: 219ms\tremaining: 228ms\n",
      "245:\tlearn: 0.3418679\ttotal: 220ms\tremaining: 227ms\n",
      "246:\tlearn: 0.3416797\ttotal: 220ms\tremaining: 226ms\n",
      "247:\tlearn: 0.3415376\ttotal: 221ms\tremaining: 225ms\n",
      "248:\tlearn: 0.3413825\ttotal: 222ms\tremaining: 224ms\n",
      "249:\tlearn: 0.3409345\ttotal: 222ms\tremaining: 222ms\n",
      "250:\tlearn: 0.3408380\ttotal: 223ms\tremaining: 221ms\n",
      "251:\tlearn: 0.3407236\ttotal: 224ms\tremaining: 220ms\n",
      "252:\tlearn: 0.3405323\ttotal: 225ms\tremaining: 219ms\n",
      "253:\tlearn: 0.3403261\ttotal: 225ms\tremaining: 218ms\n",
      "254:\tlearn: 0.3400606\ttotal: 226ms\tremaining: 217ms\n",
      "255:\tlearn: 0.3398080\ttotal: 228ms\tremaining: 218ms\n",
      "256:\tlearn: 0.3394934\ttotal: 229ms\tremaining: 217ms\n",
      "257:\tlearn: 0.3393903\ttotal: 230ms\tremaining: 216ms\n",
      "258:\tlearn: 0.3391297\ttotal: 231ms\tremaining: 214ms\n",
      "259:\tlearn: 0.3384006\ttotal: 232ms\tremaining: 214ms\n",
      "260:\tlearn: 0.3381245\ttotal: 232ms\tremaining: 213ms\n",
      "261:\tlearn: 0.3378887\ttotal: 233ms\tremaining: 212ms\n",
      "262:\tlearn: 0.3377137\ttotal: 234ms\tremaining: 211ms\n",
      "263:\tlearn: 0.3375746\ttotal: 234ms\tremaining: 210ms\n",
      "264:\tlearn: 0.3374588\ttotal: 235ms\tremaining: 208ms\n",
      "265:\tlearn: 0.3370013\ttotal: 236ms\tremaining: 207ms\n",
      "266:\tlearn: 0.3367324\ttotal: 237ms\tremaining: 207ms\n",
      "267:\tlearn: 0.3359352\ttotal: 237ms\tremaining: 206ms\n",
      "268:\tlearn: 0.3357727\ttotal: 238ms\tremaining: 205ms\n",
      "269:\tlearn: 0.3356196\ttotal: 239ms\tremaining: 203ms\n",
      "270:\tlearn: 0.3347915\ttotal: 240ms\tremaining: 202ms\n",
      "271:\tlearn: 0.3342665\ttotal: 240ms\tremaining: 201ms\n",
      "272:\tlearn: 0.3339755\ttotal: 241ms\tremaining: 200ms\n",
      "273:\tlearn: 0.3333382\ttotal: 242ms\tremaining: 199ms\n",
      "274:\tlearn: 0.3331160\ttotal: 242ms\tremaining: 198ms\n",
      "275:\tlearn: 0.3327918\ttotal: 243ms\tremaining: 197ms\n",
      "276:\tlearn: 0.3325882\ttotal: 244ms\tremaining: 196ms\n",
      "277:\tlearn: 0.3325410\ttotal: 244ms\tremaining: 195ms\n",
      "278:\tlearn: 0.3317945\ttotal: 245ms\tremaining: 194ms\n",
      "279:\tlearn: 0.3315648\ttotal: 246ms\tremaining: 193ms\n",
      "280:\tlearn: 0.3313643\ttotal: 247ms\tremaining: 192ms\n",
      "281:\tlearn: 0.3308674\ttotal: 247ms\tremaining: 191ms\n",
      "282:\tlearn: 0.3302004\ttotal: 248ms\tremaining: 190ms\n",
      "283:\tlearn: 0.3296679\ttotal: 249ms\tremaining: 189ms\n",
      "284:\tlearn: 0.3295502\ttotal: 249ms\tremaining: 188ms\n",
      "285:\tlearn: 0.3292575\ttotal: 250ms\tremaining: 187ms\n",
      "286:\tlearn: 0.3289865\ttotal: 251ms\tremaining: 186ms\n",
      "287:\tlearn: 0.3288155\ttotal: 252ms\tremaining: 185ms\n",
      "288:\tlearn: 0.3281753\ttotal: 252ms\tremaining: 184ms\n",
      "289:\tlearn: 0.3279051\ttotal: 253ms\tremaining: 183ms\n",
      "290:\tlearn: 0.3273498\ttotal: 254ms\tremaining: 182ms\n",
      "291:\tlearn: 0.3266671\ttotal: 255ms\tremaining: 181ms\n",
      "292:\tlearn: 0.3262043\ttotal: 255ms\tremaining: 180ms\n",
      "293:\tlearn: 0.3256269\ttotal: 256ms\tremaining: 179ms\n",
      "294:\tlearn: 0.3250460\ttotal: 257ms\tremaining: 178ms\n",
      "295:\tlearn: 0.3249140\ttotal: 257ms\tremaining: 177ms\n",
      "296:\tlearn: 0.3248662\ttotal: 258ms\tremaining: 176ms\n",
      "297:\tlearn: 0.3247412\ttotal: 259ms\tremaining: 175ms\n",
      "298:\tlearn: 0.3245807\ttotal: 260ms\tremaining: 174ms\n",
      "299:\tlearn: 0.3240340\ttotal: 260ms\tremaining: 173ms\n",
      "300:\tlearn: 0.3238891\ttotal: 261ms\tremaining: 173ms\n",
      "301:\tlearn: 0.3237937\ttotal: 262ms\tremaining: 172ms\n",
      "302:\tlearn: 0.3236662\ttotal: 262ms\tremaining: 171ms\n",
      "303:\tlearn: 0.3235276\ttotal: 263ms\tremaining: 170ms\n",
      "304:\tlearn: 0.3229727\ttotal: 264ms\tremaining: 169ms\n",
      "305:\tlearn: 0.3223247\ttotal: 264ms\tremaining: 168ms\n",
      "306:\tlearn: 0.3219189\ttotal: 265ms\tremaining: 167ms\n",
      "307:\tlearn: 0.3213832\ttotal: 266ms\tremaining: 166ms\n",
      "308:\tlearn: 0.3210465\ttotal: 267ms\tremaining: 165ms\n",
      "309:\tlearn: 0.3207478\ttotal: 267ms\tremaining: 164ms\n",
      "310:\tlearn: 0.3202747\ttotal: 268ms\tremaining: 163ms\n",
      "311:\tlearn: 0.3199956\ttotal: 269ms\tremaining: 162ms\n",
      "312:\tlearn: 0.3194535\ttotal: 269ms\tremaining: 161ms\n",
      "313:\tlearn: 0.3189153\ttotal: 270ms\tremaining: 160ms\n",
      "314:\tlearn: 0.3187671\ttotal: 271ms\tremaining: 159ms\n",
      "315:\tlearn: 0.3180042\ttotal: 271ms\tremaining: 158ms\n",
      "316:\tlearn: 0.3176494\ttotal: 272ms\tremaining: 157ms\n",
      "317:\tlearn: 0.3172257\ttotal: 273ms\tremaining: 156ms\n",
      "318:\tlearn: 0.3170385\ttotal: 273ms\tremaining: 155ms\n",
      "319:\tlearn: 0.3165243\ttotal: 274ms\tremaining: 154ms\n",
      "320:\tlearn: 0.3160897\ttotal: 275ms\tremaining: 153ms\n",
      "321:\tlearn: 0.3158315\ttotal: 275ms\tremaining: 152ms\n",
      "322:\tlearn: 0.3153356\ttotal: 276ms\tremaining: 151ms\n",
      "323:\tlearn: 0.3147820\ttotal: 277ms\tremaining: 150ms\n",
      "324:\tlearn: 0.3146466\ttotal: 278ms\tremaining: 149ms\n",
      "325:\tlearn: 0.3145060\ttotal: 278ms\tremaining: 149ms\n",
      "326:\tlearn: 0.3143028\ttotal: 279ms\tremaining: 148ms\n",
      "327:\tlearn: 0.3141722\ttotal: 280ms\tremaining: 147ms\n",
      "328:\tlearn: 0.3137624\ttotal: 281ms\tremaining: 146ms\n",
      "329:\tlearn: 0.3133506\ttotal: 281ms\tremaining: 145ms\n",
      "330:\tlearn: 0.3128295\ttotal: 282ms\tremaining: 144ms\n",
      "331:\tlearn: 0.3123668\ttotal: 283ms\tremaining: 143ms\n",
      "332:\tlearn: 0.3121607\ttotal: 283ms\tremaining: 142ms\n",
      "333:\tlearn: 0.3119409\ttotal: 284ms\tremaining: 141ms\n",
      "334:\tlearn: 0.3117922\ttotal: 285ms\tremaining: 140ms\n",
      "335:\tlearn: 0.3110840\ttotal: 285ms\tremaining: 139ms\n",
      "336:\tlearn: 0.3109628\ttotal: 286ms\tremaining: 138ms\n",
      "337:\tlearn: 0.3106060\ttotal: 287ms\tremaining: 137ms\n",
      "338:\tlearn: 0.3101475\ttotal: 287ms\tremaining: 136ms\n",
      "339:\tlearn: 0.3100517\ttotal: 288ms\tremaining: 136ms\n",
      "340:\tlearn: 0.3096204\ttotal: 289ms\tremaining: 135ms\n",
      "341:\tlearn: 0.3089346\ttotal: 290ms\tremaining: 134ms\n",
      "342:\tlearn: 0.3089091\ttotal: 290ms\tremaining: 133ms\n",
      "343:\tlearn: 0.3087408\ttotal: 291ms\tremaining: 132ms\n",
      "344:\tlearn: 0.3085336\ttotal: 292ms\tremaining: 131ms\n",
      "345:\tlearn: 0.3083491\ttotal: 292ms\tremaining: 130ms\n",
      "346:\tlearn: 0.3079964\ttotal: 293ms\tremaining: 129ms\n",
      "347:\tlearn: 0.3078030\ttotal: 294ms\tremaining: 128ms\n",
      "348:\tlearn: 0.3075734\ttotal: 294ms\tremaining: 127ms\n",
      "349:\tlearn: 0.3074488\ttotal: 295ms\tremaining: 126ms\n",
      "350:\tlearn: 0.3071061\ttotal: 296ms\tremaining: 126ms\n",
      "351:\tlearn: 0.3069946\ttotal: 296ms\tremaining: 125ms\n",
      "352:\tlearn: 0.3069045\ttotal: 297ms\tremaining: 124ms\n",
      "353:\tlearn: 0.3068508\ttotal: 298ms\tremaining: 123ms\n",
      "354:\tlearn: 0.3067984\ttotal: 298ms\tremaining: 122ms\n",
      "355:\tlearn: 0.3065931\ttotal: 299ms\tremaining: 121ms\n",
      "356:\tlearn: 0.3060058\ttotal: 300ms\tremaining: 120ms\n",
      "357:\tlearn: 0.3059235\ttotal: 301ms\tremaining: 119ms\n",
      "358:\tlearn: 0.3053737\ttotal: 301ms\tremaining: 118ms\n",
      "359:\tlearn: 0.3050722\ttotal: 302ms\tremaining: 117ms\n",
      "360:\tlearn: 0.3045675\ttotal: 303ms\tremaining: 117ms\n",
      "361:\tlearn: 0.3042477\ttotal: 303ms\tremaining: 116ms\n",
      "362:\tlearn: 0.3042046\ttotal: 304ms\tremaining: 115ms\n",
      "363:\tlearn: 0.3038501\ttotal: 305ms\tremaining: 114ms\n",
      "364:\tlearn: 0.3034270\ttotal: 305ms\tremaining: 113ms\n",
      "365:\tlearn: 0.3031631\ttotal: 306ms\tremaining: 112ms\n",
      "366:\tlearn: 0.3027656\ttotal: 307ms\tremaining: 111ms\n",
      "367:\tlearn: 0.3021290\ttotal: 307ms\tremaining: 110ms\n",
      "368:\tlearn: 0.3017926\ttotal: 308ms\tremaining: 109ms\n",
      "369:\tlearn: 0.3014200\ttotal: 309ms\tremaining: 108ms\n",
      "370:\tlearn: 0.3009361\ttotal: 309ms\tremaining: 108ms\n",
      "371:\tlearn: 0.3008731\ttotal: 310ms\tremaining: 107ms\n",
      "372:\tlearn: 0.3007068\ttotal: 311ms\tremaining: 106ms\n",
      "373:\tlearn: 0.3004342\ttotal: 311ms\tremaining: 105ms\n",
      "374:\tlearn: 0.3000654\ttotal: 312ms\tremaining: 104ms\n",
      "375:\tlearn: 0.2995064\ttotal: 313ms\tremaining: 103ms\n",
      "376:\tlearn: 0.2990046\ttotal: 313ms\tremaining: 102ms\n",
      "377:\tlearn: 0.2987984\ttotal: 314ms\tremaining: 101ms\n",
      "378:\tlearn: 0.2985088\ttotal: 315ms\tremaining: 100ms\n",
      "379:\tlearn: 0.2980019\ttotal: 315ms\tremaining: 99.6ms\n",
      "380:\tlearn: 0.2976784\ttotal: 316ms\tremaining: 98.7ms\n",
      "381:\tlearn: 0.2976041\ttotal: 317ms\tremaining: 97.8ms\n",
      "382:\tlearn: 0.2974125\ttotal: 317ms\tremaining: 97ms\n",
      "383:\tlearn: 0.2971830\ttotal: 318ms\tremaining: 96.2ms\n",
      "384:\tlearn: 0.2971428\ttotal: 319ms\tremaining: 95.3ms\n",
      "385:\tlearn: 0.2970058\ttotal: 320ms\tremaining: 94.4ms\n",
      "386:\tlearn: 0.2965692\ttotal: 320ms\tremaining: 93.5ms\n",
      "387:\tlearn: 0.2961856\ttotal: 321ms\tremaining: 92.6ms\n",
      "388:\tlearn: 0.2958663\ttotal: 322ms\tremaining: 91.8ms\n",
      "389:\tlearn: 0.2956727\ttotal: 322ms\tremaining: 90.9ms\n",
      "390:\tlearn: 0.2955760\ttotal: 323ms\tremaining: 90ms\n",
      "391:\tlearn: 0.2955024\ttotal: 324ms\tremaining: 89.2ms\n",
      "392:\tlearn: 0.2954082\ttotal: 324ms\tremaining: 88.3ms\n",
      "393:\tlearn: 0.2948172\ttotal: 325ms\tremaining: 87.4ms\n",
      "394:\tlearn: 0.2947049\ttotal: 326ms\tremaining: 86.6ms\n",
      "395:\tlearn: 0.2944095\ttotal: 326ms\tremaining: 85.7ms\n",
      "396:\tlearn: 0.2940558\ttotal: 327ms\tremaining: 84.8ms\n",
      "397:\tlearn: 0.2938057\ttotal: 328ms\tremaining: 84ms\n",
      "398:\tlearn: 0.2937676\ttotal: 328ms\tremaining: 83.1ms\n",
      "399:\tlearn: 0.2936127\ttotal: 329ms\tremaining: 82.3ms\n",
      "400:\tlearn: 0.2933304\ttotal: 330ms\tremaining: 81.4ms\n",
      "401:\tlearn: 0.2931088\ttotal: 330ms\tremaining: 80.5ms\n",
      "402:\tlearn: 0.2927423\ttotal: 331ms\tremaining: 79.7ms\n",
      "403:\tlearn: 0.2926474\ttotal: 332ms\tremaining: 78.8ms\n",
      "404:\tlearn: 0.2924276\ttotal: 333ms\tremaining: 78ms\n",
      "405:\tlearn: 0.2923173\ttotal: 333ms\tremaining: 77.1ms\n",
      "406:\tlearn: 0.2918165\ttotal: 334ms\tremaining: 76.3ms\n",
      "407:\tlearn: 0.2915246\ttotal: 335ms\tremaining: 75.5ms\n",
      "408:\tlearn: 0.2912245\ttotal: 335ms\tremaining: 74.6ms\n",
      "409:\tlearn: 0.2908791\ttotal: 336ms\tremaining: 73.7ms\n",
      "410:\tlearn: 0.2906002\ttotal: 337ms\tremaining: 72.9ms\n",
      "411:\tlearn: 0.2904248\ttotal: 337ms\tremaining: 72ms\n",
      "412:\tlearn: 0.2901110\ttotal: 338ms\tremaining: 71.2ms\n",
      "413:\tlearn: 0.2898151\ttotal: 339ms\tremaining: 70.3ms\n",
      "414:\tlearn: 0.2895232\ttotal: 339ms\tremaining: 69.5ms\n",
      "415:\tlearn: 0.2892337\ttotal: 340ms\tremaining: 68.6ms\n",
      "416:\tlearn: 0.2889193\ttotal: 341ms\tremaining: 67.8ms\n",
      "417:\tlearn: 0.2886524\ttotal: 341ms\tremaining: 67ms\n",
      "418:\tlearn: 0.2883797\ttotal: 342ms\tremaining: 66.1ms\n",
      "419:\tlearn: 0.2878130\ttotal: 343ms\tremaining: 65.3ms\n",
      "420:\tlearn: 0.2875317\ttotal: 343ms\tremaining: 64.5ms\n",
      "421:\tlearn: 0.2873215\ttotal: 344ms\tremaining: 63.6ms\n",
      "422:\tlearn: 0.2872815\ttotal: 345ms\tremaining: 62.8ms\n",
      "423:\tlearn: 0.2867492\ttotal: 346ms\tremaining: 62ms\n",
      "424:\tlearn: 0.2864957\ttotal: 346ms\tremaining: 61.1ms\n",
      "425:\tlearn: 0.2864590\ttotal: 347ms\tremaining: 60.3ms\n",
      "426:\tlearn: 0.2863432\ttotal: 348ms\tremaining: 59.5ms\n",
      "427:\tlearn: 0.2862396\ttotal: 348ms\tremaining: 58.6ms\n",
      "428:\tlearn: 0.2858435\ttotal: 349ms\tremaining: 57.8ms\n",
      "429:\tlearn: 0.2855710\ttotal: 350ms\tremaining: 56.9ms\n",
      "430:\tlearn: 0.2854338\ttotal: 350ms\tremaining: 56.1ms\n",
      "431:\tlearn: 0.2852480\ttotal: 351ms\tremaining: 55.3ms\n",
      "432:\tlearn: 0.2849852\ttotal: 352ms\tremaining: 54.4ms\n",
      "433:\tlearn: 0.2848529\ttotal: 352ms\tremaining: 53.6ms\n",
      "434:\tlearn: 0.2845699\ttotal: 353ms\tremaining: 52.8ms\n",
      "435:\tlearn: 0.2842542\ttotal: 354ms\tremaining: 51.9ms\n",
      "436:\tlearn: 0.2841272\ttotal: 354ms\tremaining: 51.1ms\n",
      "437:\tlearn: 0.2838324\ttotal: 355ms\tremaining: 50.3ms\n",
      "438:\tlearn: 0.2833153\ttotal: 356ms\tremaining: 49.4ms\n",
      "439:\tlearn: 0.2831625\ttotal: 357ms\tremaining: 48.6ms\n",
      "440:\tlearn: 0.2830269\ttotal: 357ms\tremaining: 47.8ms\n",
      "441:\tlearn: 0.2825288\ttotal: 358ms\tremaining: 47ms\n",
      "442:\tlearn: 0.2824195\ttotal: 358ms\tremaining: 46.1ms\n",
      "443:\tlearn: 0.2823843\ttotal: 359ms\tremaining: 45.3ms\n",
      "444:\tlearn: 0.2821542\ttotal: 360ms\tremaining: 44.5ms\n",
      "445:\tlearn: 0.2820959\ttotal: 361ms\tremaining: 43.6ms\n",
      "446:\tlearn: 0.2819810\ttotal: 361ms\tremaining: 42.8ms\n",
      "447:\tlearn: 0.2817021\ttotal: 362ms\tremaining: 42ms\n",
      "448:\tlearn: 0.2814663\ttotal: 362ms\tremaining: 41.2ms\n",
      "449:\tlearn: 0.2814274\ttotal: 363ms\tremaining: 40.3ms\n",
      "450:\tlearn: 0.2813289\ttotal: 364ms\tremaining: 39.5ms\n",
      "451:\tlearn: 0.2810535\ttotal: 364ms\tremaining: 38.7ms\n",
      "452:\tlearn: 0.2808214\ttotal: 365ms\tremaining: 37.9ms\n",
      "453:\tlearn: 0.2805717\ttotal: 366ms\tremaining: 37.1ms\n",
      "454:\tlearn: 0.2803319\ttotal: 366ms\tremaining: 36.2ms\n",
      "455:\tlearn: 0.2797702\ttotal: 367ms\tremaining: 35.4ms\n",
      "456:\tlearn: 0.2796696\ttotal: 368ms\tremaining: 34.6ms\n",
      "457:\tlearn: 0.2795636\ttotal: 368ms\tremaining: 33.8ms\n",
      "458:\tlearn: 0.2794608\ttotal: 369ms\tremaining: 33ms\n",
      "459:\tlearn: 0.2792851\ttotal: 370ms\tremaining: 32.1ms\n",
      "460:\tlearn: 0.2786277\ttotal: 370ms\tremaining: 31.3ms\n",
      "461:\tlearn: 0.2784821\ttotal: 371ms\tremaining: 30.5ms\n",
      "462:\tlearn: 0.2784269\ttotal: 372ms\tremaining: 29.7ms\n",
      "463:\tlearn: 0.2781938\ttotal: 372ms\tremaining: 28.9ms\n",
      "464:\tlearn: 0.2778863\ttotal: 373ms\tremaining: 28.1ms\n",
      "465:\tlearn: 0.2774341\ttotal: 374ms\tremaining: 27.3ms\n",
      "466:\tlearn: 0.2772554\ttotal: 374ms\tremaining: 26.5ms\n",
      "467:\tlearn: 0.2769689\ttotal: 375ms\tremaining: 25.7ms\n",
      "468:\tlearn: 0.2766855\ttotal: 376ms\tremaining: 24.9ms\n",
      "469:\tlearn: 0.2765222\ttotal: 377ms\tremaining: 24.1ms\n",
      "470:\tlearn: 0.2761057\ttotal: 378ms\tremaining: 23.2ms\n",
      "471:\tlearn: 0.2758767\ttotal: 378ms\tremaining: 22.4ms\n",
      "472:\tlearn: 0.2755951\ttotal: 379ms\tremaining: 21.6ms\n",
      "473:\tlearn: 0.2754136\ttotal: 380ms\tremaining: 20.8ms\n",
      "474:\tlearn: 0.2750149\ttotal: 380ms\tremaining: 20ms\n",
      "475:\tlearn: 0.2747678\ttotal: 381ms\tremaining: 19.2ms\n",
      "476:\tlearn: 0.2745929\ttotal: 382ms\tremaining: 18.4ms\n",
      "477:\tlearn: 0.2744337\ttotal: 382ms\tremaining: 17.6ms\n",
      "478:\tlearn: 0.2740592\ttotal: 383ms\tremaining: 16.8ms\n",
      "479:\tlearn: 0.2739145\ttotal: 384ms\tremaining: 16ms\n",
      "480:\tlearn: 0.2736974\ttotal: 384ms\tremaining: 15.2ms\n",
      "481:\tlearn: 0.2735462\ttotal: 385ms\tremaining: 14.4ms\n",
      "482:\tlearn: 0.2733624\ttotal: 386ms\tremaining: 13.6ms\n",
      "483:\tlearn: 0.2731780\ttotal: 387ms\tremaining: 12.8ms\n",
      "484:\tlearn: 0.2730800\ttotal: 387ms\tremaining: 12ms\n",
      "485:\tlearn: 0.2725612\ttotal: 388ms\tremaining: 11.2ms\n",
      "486:\tlearn: 0.2723825\ttotal: 389ms\tremaining: 10.4ms\n",
      "487:\tlearn: 0.2722472\ttotal: 390ms\tremaining: 9.58ms\n",
      "488:\tlearn: 0.2720410\ttotal: 390ms\tremaining: 8.78ms\n",
      "489:\tlearn: 0.2719991\ttotal: 391ms\tremaining: 7.98ms\n",
      "490:\tlearn: 0.2718275\ttotal: 392ms\tremaining: 7.18ms\n",
      "491:\tlearn: 0.2715719\ttotal: 392ms\tremaining: 6.38ms\n",
      "492:\tlearn: 0.2710744\ttotal: 393ms\tremaining: 5.58ms\n",
      "493:\tlearn: 0.2708872\ttotal: 394ms\tremaining: 4.78ms\n",
      "494:\tlearn: 0.2707521\ttotal: 394ms\tremaining: 3.98ms\n",
      "495:\tlearn: 0.2704874\ttotal: 395ms\tremaining: 3.19ms\n",
      "496:\tlearn: 0.2704286\ttotal: 396ms\tremaining: 2.39ms\n",
      "497:\tlearn: 0.2701687\ttotal: 396ms\tremaining: 1.59ms\n",
      "498:\tlearn: 0.2699589\ttotal: 397ms\tremaining: 796us\n",
      "499:\tlearn: 0.2695563\ttotal: 398ms\tremaining: 0us\n",
      "\n",
      " <catboost.core.CatBoostClassifier object at 0x7f4b0e1ca2d0>\n",
      "0.8305367231638418 \n",
      "\n"
     ]
    }
   ],
   "source": [
    "cv_result = []\n",
    "best_estimators = []\n",
    "for i in range(len(classifier)):\n",
    "    clf = GridSearchCV(classifier[i], param_grid=classifier_params[i], cv = StratifiedKFold(n_splits = 10), scoring = \"accuracy\", n_jobs = -1,verbose = 2)\n",
    "    clf.fit(X_train,y_train)\n",
    "    cv_result.append(clf.best_score_)\n",
    "    best_estimators.append(clf.best_estimator_)\n",
    "    print(\"\\n\",classifier[i])\n",
    "    print(cv_result[i],\"\\n\")"
   ]
  },
  {
   "cell_type": "markdown",
   "metadata": {},
   "source": [
    "<b>Creating a ranking chart that shows the classification success of all models according to the hyperparameter values that make the best classification.</b>"
   ]
  },
  {
   "cell_type": "code",
   "execution_count": 85,
   "metadata": {},
   "outputs": [
    {
     "data": {
      "image/png": "[encoded data removed]",
      "text/plain": [
       "<Figure size 864x432 with 1 Axes>"
      ]
     },
     "metadata": {},
     "output_type": "display_data"
    }
   ],
   "source": [
    "cv_results = pd.DataFrame({\"Cross Validation Means\":cv_result, \n",
    "                           \"ML Models\":[\"DecisionTreeClassifier\", \"SVM\",\"RandomForestClassifier\",\n",
    "                                        \"LogisticRegression\",\"KNeighborsClassifier\",\n",
    "                                        \"GradientBoostingClassifier\",\"MLPClassifier\",\n",
    "                                        \"XGBRFClassifier\",\"LGBMClassifier\",\"CatBoostClassifier\"]})\n",
    "\n",
    "results = cv_results.sort_values(['Cross Validation Means']).reset_index(drop=True)\n",
    "g = sns.barplot(\"Cross Validation Means\", \"ML Models\", data = results)\n",
    "g.set_xlabel(\"Mean Accuracy\")\n",
    "g.set_title(\"Cross Validation Scores\");\n",
    "\n",
    "plt.figure(figsize=(12,6))\n",
    "plt.grid(b=True, which='both', color='#999999', linestyle='-', alpha=0.2)\n",
    "plt.minorticks_on()"
   ]
  },
  {
   "cell_type": "code",
   "execution_count": 76,
   "metadata": {},
   "outputs": [
    {
     "data": {
      "text/html": [
       "<div>\n",
       "<style scoped>\n",
       "    .dataframe tbody tr th:only-of-type {\n",
       "        vertical-align: middle;\n",
       "    }\n",
       "\n",
       "    .dataframe tbody tr th {\n",
       "        vertical-align: top;\n",
       "    }\n",
       "\n",
       "    .dataframe thead th {\n",
       "        text-align: right;\n",
       "    }\n",
       "</style>\n",
       "<table border=\"1\" class=\"dataframe\">\n",
       "  <thead>\n",
       "    <tr style=\"text-align: right;\">\n",
       "      <th></th>\n",
       "      <th>Cross Validation Means</th>\n",
       "      <th>ML Models</th>\n",
       "    </tr>\n",
       "  </thead>\n",
       "  <tbody>\n",
       "    <tr>\n",
       "      <th>0</th>\n",
       "      <td>0.817203</td>\n",
       "      <td>DecisionTreeClassifier</td>\n",
       "    </tr>\n",
       "    <tr>\n",
       "      <th>1</th>\n",
       "      <td>0.828785</td>\n",
       "      <td>SVM</td>\n",
       "    </tr>\n",
       "    <tr>\n",
       "      <th>2</th>\n",
       "      <td>0.828870</td>\n",
       "      <td>RandomForestClassifier</td>\n",
       "    </tr>\n",
       "    <tr>\n",
       "      <th>3</th>\n",
       "      <td>0.800141</td>\n",
       "      <td>LogisticRegression</td>\n",
       "    </tr>\n",
       "    <tr>\n",
       "      <th>4</th>\n",
       "      <td>0.817090</td>\n",
       "      <td>KNeighborsClassifier</td>\n",
       "    </tr>\n",
       "    <tr>\n",
       "      <th>5</th>\n",
       "      <td>0.827147</td>\n",
       "      <td>GradientBoostingClassifier</td>\n",
       "    </tr>\n",
       "    <tr>\n",
       "      <th>6</th>\n",
       "      <td>0.828729</td>\n",
       "      <td>MLPClassifier</td>\n",
       "    </tr>\n",
       "    <tr>\n",
       "      <th>7</th>\n",
       "      <td>0.820452</td>\n",
       "      <td>XGBRFClassifier</td>\n",
       "    </tr>\n",
       "    <tr>\n",
       "      <th>8</th>\n",
       "      <td>0.827119</td>\n",
       "      <td>LGBMClassifier</td>\n",
       "    </tr>\n",
       "    <tr>\n",
       "      <th>9</th>\n",
       "      <td>0.830537</td>\n",
       "      <td>CatBoostClassifier</td>\n",
       "    </tr>\n",
       "  </tbody>\n",
       "</table>\n",
       "</div>"
      ],
      "text/plain": [
       "   Cross Validation Means                   ML Models\n",
       "0                0.817203      DecisionTreeClassifier\n",
       "1                0.828785                         SVM\n",
       "2                0.828870      RandomForestClassifier\n",
       "3                0.800141          LogisticRegression\n",
       "4                0.817090        KNeighborsClassifier\n",
       "5                0.827147  GradientBoostingClassifier\n",
       "6                0.828729               MLPClassifier\n",
       "7                0.820452             XGBRFClassifier\n",
       "8                0.827119              LGBMClassifier\n",
       "9                0.830537          CatBoostClassifier"
      ]
     },
     "execution_count": 76,
     "metadata": {},
     "output_type": "execute_result"
    }
   ],
   "source": [
    "cv_results "
   ]
  },
  {
   "cell_type": "code",
   "execution_count": 86,
   "metadata": {},
   "outputs": [
    {
     "data": {
      "text/plain": [
       "SVC(C=200, gamma=0.01, probability=True, random_state=42)"
      ]
     },
     "execution_count": 86,
     "metadata": {},
     "output_type": "execute_result"
    }
   ],
   "source": [
    "# we have t use for using the VotingClassifier ing : we only adding : probability=True\n",
    "best_estimators[1] = SVC(C=200, gamma=0.01, probability=True,random_state=42)\n",
    "best_estimators[1]"
   ]
  },
  {
   "cell_type": "markdown",
   "metadata": {},
   "source": [
    "<a id = \"10\"></a><br>\n",
    "## Ensemble Modeling"
   ]
  },
  {
   "cell_type": "markdown",
   "metadata": {},
   "source": [
    "The ensemble model process was applied for 6 models that gave the best performance among the 10 machine learning classification models used. This means that for each decision, the higher probability of the decisions among the 6 models is chosen."
   ]
  },
  {
   "cell_type": "code",
   "execution_count": 83,
   "metadata": {},
   "outputs": [
    {
     "name": "stdout",
     "output_type": "stream",
     "text": [
      "0.8271186440677966\n"
     ]
    }
   ],
   "source": [
    "votingC = VotingClassifier(estimators = [(\"svc\",best_estimators[1]),\n",
    "                                         (\"rfc\",best_estimators[2]),\n",
    "                                        (\"gbc\",best_estimators[5]),\n",
    "                                         (\"mlp\",best_estimators[6]),\n",
    "                                        (\"lgb\",best_estimators[8]),\n",
    "                                        (\"catb\",best_estimators[9])], \n",
    "                                        voting = \"soft\", n_jobs = -1)\n",
    "votingC = votingC.fit(X_train, y_train)\n",
    "print(accuracy_score(votingC.predict(X_test),y_test))\n",
    "\n"
   ]
  },
  {
   "cell_type": "markdown",
   "metadata": {},
   "source": [
    "<a id = \"11\"></a><br>\n",
    "## Prediction and Submission"
   ]
  },
  {
   "cell_type": "markdown",
   "metadata": {},
   "source": [
    "Arrangements were made to be sent to the competition in Kaggle."
   ]
  },
  {
   "cell_type": "code",
   "execution_count": 132,
   "metadata": {},
   "outputs": [],
   "source": [
    "# before that we have to convert test data to standard scaler\n",
    "test_scaler = scaler.transform(test.values)\n",
    "test = pd.DataFrame(test_scaler, index=test.index, columns=test.columns)"
   ]
  },
  {
   "cell_type": "code",
   "execution_count": 133,
   "metadata": {},
   "outputs": [],
   "source": [
    "test_survived = pd.Series(votingC.predict(test), name = \"Survived\").astype(int)\n",
    "results = pd.concat([test_PassengerId, test_survived],axis = 1)\n",
    "results.to_csv(\"titanic.csv\", index = False)"
   ]
  }
 ],
 "metadata": {
  "kernelspec": {
   "display_name": "Python 3",
   "language": "python",
   "name": "python3"
  },
  "language_info": {
   "codemirror_mode": {
    "name": "ipython",
    "version": 3
   },
   "file_extension": ".py",
   "mimetype": "text/x-python",
   "name": "python",
   "nbconvert_exporter": "python",
   "pygments_lexer": "ipython3",
   "version": "3.8.5"
  }
 },
 "nbformat": 4,
 "nbformat_minor": 4
}
